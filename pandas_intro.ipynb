{
  "cells": [
    {
      "cell_type": "markdown",
      "id": "a0b364c6-84fb-401f-b570-6a2c1e007617",
      "metadata": {
        "id": "a0b364c6-84fb-401f-b570-6a2c1e007617"
      },
      "source": [
        "# Introduction to `pandas`"
      ]
    },
    {
      "cell_type": "code",
      "execution_count": null,
      "id": "f888814f-f2a6-40f6-ade1-bb86d633c3c0",
      "metadata": {
        "id": "f888814f-f2a6-40f6-ade1-bb86d633c3c0"
      },
      "outputs": [],
      "source": [
        "#import and alias\n"
      ]
    },
    {
      "cell_type": "markdown",
      "id": "bb1a1f2b-db8f-48a0-8267-861f17b9e3d9",
      "metadata": {
        "id": "bb1a1f2b-db8f-48a0-8267-861f17b9e3d9"
      },
      "source": [
        "## Creating a `DataFrame`"
      ]
    },
    {
      "cell_type": "code",
      "execution_count": 4,
      "id": "c0f6146c-2a01-4eb1-8d2c-483bd72ef5e9",
      "metadata": {
        "id": "c0f6146c-2a01-4eb1-8d2c-483bd72ef5e9"
      },
      "outputs": [],
      "source": [
        "#create DataFrame from dictionary\n",
        "data = {'CPI': [10, 11, 9],\n",
        "        'GDP': [8, 3, 7],\n",
        "        'Year': [2020, 2021, 2022]}\n"
      ]
    },
    {
      "cell_type": "markdown",
      "id": "b73f8057-d9ad-4da8-9799-05f100f6270a",
      "metadata": {
        "id": "b73f8057-d9ad-4da8-9799-05f100f6270a"
      },
      "source": [
        "Head over to our course repository [here](https://github.com/jfkoehler/nyu_bootcamp_fa25/blob/main/data/Ames_Housing_Sales.csv) and download the `.csv` file for the Ames Housing data.  Upload this to colab or your local jupyter lab instance."
      ]
    },
    {
      "cell_type": "code",
      "source": [
        "import seaborn as sns\n",
        "import matplotlib.pyplot as plt"
      ],
      "metadata": {
        "id": "MsCQS6xLAhgg"
      },
      "id": "MsCQS6xLAhgg",
      "execution_count": 5,
      "outputs": []
    },
    {
      "cell_type": "code",
      "execution_count": 8,
      "id": "fc81ff58-6daf-496e-8162-3c9292cd99c8",
      "metadata": {
        "id": "fc81ff58-6daf-496e-8162-3c9292cd99c8"
      },
      "outputs": [],
      "source": [
        "#create DataFrame from a local .csv file\n",
        "import pandas as pd\n",
        "moves = pd.read_csv('/content/openings.csv')"
      ]
    },
    {
      "cell_type": "code",
      "execution_count": 9,
      "id": "68013528-d44c-4d82-9019-0efcf86b0f1d",
      "metadata": {
        "colab": {
          "base_uri": "https://localhost:8080/"
        },
        "id": "68013528-d44c-4d82-9019-0efcf86b0f1d",
        "outputId": "7a8eea2b-16dd-4ddb-8c9c-bcd32dea976d"
      },
      "outputs": [
        {
          "output_type": "stream",
          "name": "stdout",
          "text": [
            "<class 'pandas.core.frame.DataFrame'>\n",
            "RangeIndex: 1884 entries, 0 to 1883\n",
            "Data columns (total 26 columns):\n",
            " #   Column          Non-Null Count  Dtype  \n",
            "---  ------          --------------  -----  \n",
            " 0   Unnamed: 0      1884 non-null   int64  \n",
            " 1   Opening         1884 non-null   object \n",
            " 2   Colour          1884 non-null   object \n",
            " 3   Num Games       1884 non-null   int64  \n",
            " 4   ECO             1884 non-null   object \n",
            " 5   Last Played     1884 non-null   object \n",
            " 6   Perf Rating     1884 non-null   int64  \n",
            " 7   Avg Player      1884 non-null   int64  \n",
            " 8   Player Win %    1884 non-null   float64\n",
            " 9   Draw %          1884 non-null   float64\n",
            " 10  Opponent Win %  1884 non-null   float64\n",
            " 11  Moves           1884 non-null   object \n",
            " 12  moves_list      1884 non-null   object \n",
            " 13  move1w          1884 non-null   object \n",
            " 14  move1b          1869 non-null   object \n",
            " 15  move2w          1814 non-null   object \n",
            " 16  move2b          1744 non-null   object \n",
            " 17  move3w          1628 non-null   object \n",
            " 18  move3b          1501 non-null   object \n",
            " 19  move4w          1340 non-null   object \n",
            " 20  move4b          1186 non-null   object \n",
            " 21  White_win%      1884 non-null   float64\n",
            " 22  Black_win%      1884 non-null   float64\n",
            " 23  White_odds      1884 non-null   float64\n",
            " 24  White_Wins      1884 non-null   float64\n",
            " 25  Black_Wins      1884 non-null   float64\n",
            "dtypes: float64(8), int64(4), object(14)\n",
            "memory usage: 382.8+ KB\n"
          ]
        }
      ],
      "source": [
        "#look at the first five rows\n",
        "moves.info()"
      ]
    },
    {
      "cell_type": "code",
      "execution_count": 11,
      "id": "255bb3ae-9c94-4f44-8c26-e4480e73edbc",
      "metadata": {
        "colab": {
          "base_uri": "https://localhost:8080/"
        },
        "id": "255bb3ae-9c94-4f44-8c26-e4480e73edbc",
        "outputId": "961f5fd3-6cfd-4d21-f6f5-49b4c02a292f"
      },
      "outputs": [
        {
          "output_type": "stream",
          "name": "stdout",
          "text": [
            "(1884, 26)\n"
          ]
        }
      ],
      "source": [
        "#check out the shape of the data\n",
        "import numpy as np\n",
        "print(moves.shape)"
      ]
    },
    {
      "cell_type": "code",
      "execution_count": 13,
      "id": "03f63cc6-739b-43d6-ba0d-c277c29141da",
      "metadata": {
        "colab": {
          "base_uri": "https://localhost:8080/"
        },
        "id": "03f63cc6-739b-43d6-ba0d-c277c29141da",
        "outputId": "fc4678c7-6260-4410-9d76-2d76936f250c"
      },
      "outputs": [
        {
          "output_type": "stream",
          "name": "stdout",
          "text": [
            "Index(['Unnamed: 0', 'Opening', 'Colour', 'Num Games', 'ECO', 'Last Played',\n",
            "       'Perf Rating', 'Avg Player', 'Player Win %', 'Draw %', 'Opponent Win %',\n",
            "       'Moves', 'moves_list', 'move1w', 'move1b', 'move2w', 'move2b', 'move3w',\n",
            "       'move3b', 'move4w', 'move4b', 'White_win%', 'Black_win%', 'White_odds',\n",
            "       'White_Wins', 'Black_Wins'],\n",
            "      dtype='object')\n"
          ]
        }
      ],
      "source": [
        "#what are the column names?\n",
        "print(moves.columns)"
      ]
    },
    {
      "cell_type": "code",
      "execution_count": 17,
      "id": "8a48d1aa-0642-44fd-aaae-221a88f2d71b",
      "metadata": {
        "colab": {
          "base_uri": "https://localhost:8080/"
        },
        "id": "8a48d1aa-0642-44fd-aaae-221a88f2d71b",
        "outputId": "a22be3af-a380-49f5-9cf5-e11a279895f4"
      },
      "outputs": [
        {
          "output_type": "stream",
          "name": "stdout",
          "text": [
            "[0, 1, 2, 3, 4, 5, 6, 7, 8, 9, 10, 11, 12, 13, 14, 15, 16, 17, 18, 19, 20, 21, 22, 23, 24, 25, 26, 27, 28, 29, 30, 31, 32, 33, 34, 35, 36, 37, 38, 39, 40, 41, 42, 43, 44, 45, 46, 47, 48, 49, 50, 51, 52, 53, 54, 55, 56, 57, 58, 59, 60, 61, 62, 63, 64, 65, 66, 67, 68, 69, 70, 71, 72, 73, 74, 75, 76, 77, 78, 79, 80, 81, 82, 83, 84, 85, 86, 87, 88, 89, 90, 91, 92, 93, 94, 95, 96, 97, 98, 99, 100, 101, 102, 103, 104, 105, 106, 107, 108, 109, 110, 111, 112, 113, 114, 115, 116, 117, 118, 119, 120, 121, 122, 123, 124, 125, 126, 127, 128, 129, 130, 131, 132, 133, 134, 135, 136, 137, 138, 139, 140, 141, 142, 143, 144, 145, 146, 147, 148, 149, 150, 151, 152, 153, 154, 155, 156, 157, 158, 159, 160, 161, 162, 163, 164, 165, 166, 167, 168, 169, 170, 171, 172, 173, 174, 175, 176, 177, 178, 179, 180, 181, 182, 183, 184, 185, 186, 187, 188, 189, 190, 191, 192, 193, 194, 195, 196, 197, 198, 199, 200, 201, 202, 203, 204, 205, 206, 207, 208, 209, 210, 211, 212, 213, 214, 215, 216, 217, 218, 219, 220, 221, 222, 223, 224, 225, 226, 227, 228, 229, 230, 231, 232, 233, 234, 235, 236, 237, 238, 239, 240, 241, 242, 243, 244, 245, 246, 247, 248, 249, 250, 251, 252, 253, 254, 255, 256, 257, 258, 259, 260, 261, 262, 263, 264, 265, 266, 267, 268, 269, 270, 271, 272, 273, 274, 275, 276, 277, 278, 279, 280, 281, 282, 283, 284, 285, 286, 287, 288, 289, 290, 291, 292, 293, 294, 295, 296, 297, 298, 299, 300, 301, 302, 303, 304, 305, 306, 307, 308, 309, 310, 311, 312, 313, 314, 315, 316, 317, 318, 319, 320, 321, 322, 323, 324, 325, 326, 327, 328, 329, 330, 331, 332, 333, 334, 335, 336, 337, 338, 339, 340, 341, 342, 343, 344, 345, 346, 347, 348, 349, 350, 351, 352, 353, 354, 355, 356, 357, 358, 359, 360, 361, 362, 363, 364, 365, 366, 367, 368, 369, 370, 371, 372, 373, 374, 375, 376, 377, 378, 379, 380, 381, 382, 383, 384, 385, 386, 387, 388, 389, 390, 391, 392, 393, 394, 395, 396, 397, 398, 399, 400, 401, 402, 403, 404, 405, 406, 407, 408, 409, 410, 411, 412, 413, 414, 415, 416, 417, 418, 419, 420, 421, 422, 423, 424, 425, 426, 427, 428, 429, 430, 431, 432, 433, 434, 435, 436, 437, 438, 439, 440, 441, 442, 443, 444, 445, 446, 447, 448, 449, 450, 451, 452, 453, 454, 455, 456, 457, 458, 459, 460, 461, 462, 463, 464, 465, 466, 467, 468, 469, 470, 471, 472, 473, 474, 475, 476, 477, 478, 479, 480, 481, 482, 483, 484, 485, 486, 487, 488, 489, 490, 491, 492, 493, 494, 495, 496, 497, 498, 499, 500, 501, 502, 503, 504, 505, 506, 507, 508, 509, 510, 511, 512, 513, 514, 515, 516, 517, 518, 519, 520, 521, 522, 523, 524, 525, 526, 527, 528, 529, 530, 531, 532, 533, 534, 535, 536, 537, 538, 539, 540, 541, 542, 543, 544, 545, 546, 547, 548, 549, 550, 551, 552, 553, 554, 555, 556, 557, 558, 559, 560, 561, 562, 563, 564, 565, 566, 567, 568, 569, 570, 571, 572, 573, 574, 575, 576, 577, 578, 579, 580, 581, 582, 583, 584, 585, 586, 587, 588, 589, 590, 591, 592, 593, 594, 595, 596, 597, 598, 599, 600, 601, 602, 603, 604, 605, 606, 607, 608, 609, 610, 611, 612, 613, 614, 615, 616, 617, 618, 619, 620, 621, 622, 623, 624, 625, 626, 627, 628, 629, 630, 631, 632, 633, 634, 635, 636, 637, 638, 639, 640, 641, 642, 643, 644, 645, 646, 647, 648, 649, 650, 651, 652, 653, 654, 655, 656, 657, 658, 659, 660, 661, 662, 663, 664, 665, 666, 667, 668, 669, 670, 671, 672, 673, 674, 675, 676, 677, 678, 679, 680, 681, 682, 683, 684, 685, 686, 687, 688, 689, 690, 691, 692, 693, 694, 695, 696, 697, 698, 699, 700, 701, 702, 703, 704, 705, 706, 707, 708, 709, 710, 711, 712, 713, 714, 715, 716, 717, 718, 719, 720, 721, 722, 723, 724, 725, 726, 727, 728, 729, 730, 731, 732, 733, 734, 735, 736, 737, 738, 739, 740, 741, 742, 743, 744, 745, 746, 747, 748, 749, 750, 751, 752, 753, 754, 755, 756, 757, 758, 759, 760, 761, 762, 763, 764, 765, 766, 767, 768, 769, 770, 771, 772, 773, 774, 775, 776, 777, 778, 779, 780, 781, 782, 783, 784, 785, 786, 787, 788, 789, 790, 791, 792, 793, 794, 795, 796, 797, 798, 799, 800, 801, 802, 803, 804, 805, 806, 807, 808, 809, 810, 811, 812, 813, 814, 815, 816, 817, 818, 819, 820, 821, 822, 823, 824, 825, 826, 827, 828, 829, 830, 831, 832, 833, 834, 835, 836, 837, 838, 839, 840, 841, 842, 843, 844, 845, 846, 847, 848, 849, 850, 851, 852, 853, 854, 855, 856, 857, 858, 859, 860, 861, 862, 863, 864, 865, 866, 867, 868, 869, 870, 871, 872, 873, 874, 875, 876, 877, 878, 879, 880, 881, 882, 883, 884, 885, 886, 887, 888, 889, 890, 891, 892, 893, 894, 895, 896, 897, 898, 899, 900, 901, 902, 903, 904, 905, 906, 907, 908, 909, 910, 911, 912, 913, 914, 915, 916, 917, 918, 919, 920, 921, 922, 923, 924, 925, 926, 927, 928, 929, 930, 931, 932, 933, 934, 935, 936, 937, 938, 939, 940, 941, 942, 943, 944, 945, 946, 947, 948, 949, 950, 951, 952, 953, 954, 955, 956, 957, 958, 959, 960, 961, 962, 963, 964, 965, 966, 967, 968, 969, 970, 971, 972, 973, 974, 975, 976, 977, 978, 979, 980, 981, 982, 983, 984, 985, 986, 987, 988, 989, 990, 991, 992, 993, 994, 995, 996, 997, 998, 999, 1000, 1001, 1002, 1003, 1004, 1005, 1006, 1007, 1008, 1009, 1010, 1011, 1012, 1013, 1014, 1015, 1016, 1017, 1018, 1019, 1020, 1021, 1022, 1023, 1024, 1025, 1026, 1027, 1028, 1029, 1030, 1031, 1032, 1033, 1034, 1035, 1036, 1037, 1038, 1039, 1040, 1041, 1042, 1043, 1044, 1045, 1046, 1047, 1048, 1049, 1050, 1051, 1052, 1053, 1054, 1055, 1056, 1057, 1058, 1059, 1060, 1061, 1062, 1063, 1064, 1065, 1066, 1067, 1068, 1069, 1070, 1071, 1072, 1073, 1074, 1075, 1076, 1077, 1078, 1079, 1080, 1081, 1082, 1083, 1084, 1085, 1086, 1087, 1088, 1089, 1090, 1091, 1092, 1093, 1094, 1095, 1096, 1097, 1098, 1099, 1100, 1101, 1102, 1103, 1104, 1105, 1106, 1107, 1108, 1109, 1110, 1111, 1112, 1113, 1114, 1115, 1116, 1117, 1118, 1119, 1120, 1121, 1122, 1123, 1124, 1125, 1126, 1127, 1128, 1129, 1130, 1131, 1132, 1133, 1134, 1135, 1136, 1137, 1138, 1139, 1140, 1141, 1142, 1143, 1144, 1145, 1146, 1147, 1148, 1149, 1150, 1151, 1152, 1153, 1154, 1155, 1156, 1157, 1158, 1159, 1160, 1161, 1162, 1163, 1164, 1165, 1166, 1167, 1168, 1169, 1170, 1171, 1172, 1173, 1174, 1175, 1176, 1177, 1178, 1179, 1180, 1181, 1182, 1183, 1184, 1185, 1186, 1187, 1188, 1189, 1190, 1191, 1192, 1193, 1194, 1195, 1196, 1197, 1198, 1199, 1200, 1201, 1202, 1203, 1204, 1205, 1206, 1207, 1208, 1209, 1210, 1211, 1212, 1213, 1214, 1215, 1216, 1217, 1218, 1219, 1220, 1221, 1222, 1223, 1224, 1225, 1226, 1227, 1228, 1229, 1230, 1231, 1232, 1233, 1234, 1235, 1236, 1237, 1238, 1239, 1240, 1241, 1242, 1243, 1244, 1245, 1246, 1247, 1248, 1249, 1250, 1251, 1252, 1253, 1254, 1255, 1256, 1257, 1258, 1259, 1260, 1261, 1262, 1263, 1264, 1265, 1266, 1267, 1268, 1269, 1270, 1271, 1272, 1273, 1274, 1275, 1276, 1277, 1278, 1279, 1280, 1281, 1282, 1283, 1284, 1285, 1286, 1287, 1288, 1289, 1290, 1291, 1292, 1293, 1294, 1295, 1296, 1297, 1298, 1299, 1300, 1301, 1302, 1303, 1304, 1305, 1306, 1307, 1308, 1309, 1310, 1311, 1312, 1313, 1314, 1315, 1316, 1317, 1318, 1319, 1320, 1321, 1322, 1323, 1324, 1325, 1326, 1327, 1328, 1329, 1330, 1331, 1332, 1333, 1334, 1335, 1336, 1337, 1338, 1339, 1340, 1341, 1342, 1343, 1344, 1345, 1346, 1347, 1348, 1349, 1350, 1351, 1352, 1353, 1354, 1355, 1356, 1357, 1358, 1359, 1360, 1361, 1362, 1363, 1364, 1365, 1366, 1367, 1368, 1369, 1370, 1371, 1372, 1373, 1374, 1375, 1376, 1377, 1378, 1379, 1380, 1381, 1382, 1383, 1384, 1385, 1386, 1387, 1388, 1389, 1390, 1391, 1392, 1393, 1394, 1395, 1396, 1397, 1398, 1399, 1400, 1401, 1402, 1403, 1404, 1405, 1406, 1407, 1408, 1409, 1410, 1411, 1412, 1413, 1414, 1415, 1416, 1417, 1418, 1419, 1420, 1421, 1422, 1423, 1424, 1425, 1426, 1427, 1428, 1429, 1430, 1431, 1432, 1433, 1434, 1435, 1436, 1437, 1438, 1439, 1440, 1441, 1442, 1443, 1444, 1445, 1446, 1447, 1448, 1449, 1450, 1451, 1452, 1453, 1454, 1455, 1456, 1457, 1458, 1459, 1460, 1461, 1462, 1463, 1464, 1465, 1466, 1467, 1468, 1469, 1470, 1471, 1472, 1473, 1474, 1475, 1476, 1477, 1478, 1479, 1480, 1481, 1482, 1483, 1484, 1485, 1486, 1487, 1488, 1489, 1490, 1491, 1492, 1493, 1494, 1495, 1496, 1497, 1498, 1499, 1500, 1501, 1502, 1503, 1504, 1505, 1506, 1507, 1508, 1509, 1510, 1511, 1512, 1513, 1514, 1515, 1516, 1517, 1518, 1519, 1520, 1521, 1522, 1523, 1524, 1525, 1526, 1527, 1528, 1529, 1530, 1531, 1532, 1533, 1534, 1535, 1536, 1537, 1538, 1539, 1540, 1541, 1542, 1543, 1544, 1545, 1546, 1547, 1548, 1549, 1550, 1551, 1552, 1553, 1554, 1555, 1556, 1557, 1558, 1559, 1560, 1561, 1562, 1563, 1564, 1565, 1566, 1567, 1568, 1569, 1570, 1571, 1572, 1573, 1574, 1575, 1576, 1577, 1578, 1579, 1580, 1581, 1582, 1583, 1584, 1585, 1586, 1587, 1588, 1589, 1590, 1591, 1592, 1593, 1594, 1595, 1596, 1597, 1598, 1599, 1600, 1601, 1602, 1603, 1604, 1605, 1606, 1607, 1608, 1609, 1610, 1611, 1612, 1613, 1614, 1615, 1616, 1617, 1618, 1619, 1620, 1621, 1622, 1623, 1624, 1625, 1626, 1627, 1628, 1629, 1630, 1631, 1632, 1633, 1634, 1635, 1636, 1637, 1638, 1639, 1640, 1641, 1642, 1643, 1644, 1645, 1646, 1647, 1648, 1649, 1650, 1651, 1652, 1653, 1654, 1655, 1656, 1657, 1658, 1659, 1660, 1661, 1662, 1663, 1664, 1665, 1666, 1667, 1668, 1669, 1670, 1671, 1672, 1673, 1674, 1675, 1676, 1677, 1678, 1679, 1680, 1681, 1682, 1683, 1684, 1685, 1686, 1687, 1688, 1689, 1690, 1691, 1692, 1693, 1694, 1695, 1696, 1697, 1698, 1699, 1700, 1701, 1702, 1703, 1704, 1705, 1706, 1707, 1708, 1709, 1710, 1711, 1712, 1713, 1714, 1715, 1716, 1717, 1718, 1719, 1720, 1721, 1722, 1723, 1724, 1725, 1726, 1727, 1728, 1729, 1730, 1731, 1732, 1733, 1734, 1735, 1736, 1737, 1738, 1739, 1740, 1741, 1742, 1743, 1744, 1745, 1746, 1747, 1748, 1749, 1750, 1751, 1752, 1753, 1754, 1755, 1756, 1757, 1758, 1759, 1760, 1761, 1762, 1763, 1764, 1765, 1766, 1767, 1768, 1769, 1770, 1771, 1772, 1773, 1774, 1775, 1776, 1777, 1778, 1779, 1780, 1781, 1782, 1783, 1784, 1785, 1786, 1787, 1788, 1789, 1790, 1791, 1792, 1793, 1794, 1795, 1796, 1797, 1798, 1799, 1800, 1801, 1802, 1803, 1804, 1805, 1806, 1807, 1808, 1809, 1810, 1811, 1812, 1813, 1814, 1815, 1816, 1817, 1818, 1819, 1820, 1821, 1822, 1823, 1824, 1825, 1826, 1827, 1828, 1829, 1830, 1831, 1832, 1833, 1834, 1835, 1836, 1837, 1838, 1839, 1840, 1841, 1842, 1843, 1844, 1845, 1846, 1847, 1848, 1849, 1850, 1851, 1852, 1853, 1854, 1855, 1856, 1857, 1858, 1859, 1860, 1861, 1862, 1863, 1864, 1865, 1866, 1867, 1868, 1869, 1870, 1871, 1872, 1873, 1874, 1875, 1876, 1877, 1878, 1879, 1880, 1881, 1882, 1883]\n"
          ]
        }
      ],
      "source": [
        "#what are the row names?\n",
        "row_names = moves.index.tolist()\n",
        "print(row_names)"
      ]
    },
    {
      "cell_type": "code",
      "execution_count": 18,
      "id": "b4842224-8626-4c2f-ab6b-e4bd0e322c1e",
      "metadata": {
        "colab": {
          "base_uri": "https://localhost:8080/"
        },
        "id": "b4842224-8626-4c2f-ab6b-e4bd0e322c1e",
        "outputId": "3d80b439-69e8-4331-f7da-00096e4d5027"
      },
      "outputs": [
        {
          "output_type": "stream",
          "name": "stdout",
          "text": [
            "<class 'pandas.core.frame.DataFrame'>\n",
            "RangeIndex: 1884 entries, 0 to 1883\n",
            "Data columns (total 26 columns):\n",
            " #   Column          Non-Null Count  Dtype  \n",
            "---  ------          --------------  -----  \n",
            " 0   Unnamed: 0      1884 non-null   int64  \n",
            " 1   Opening         1884 non-null   object \n",
            " 2   Colour          1884 non-null   object \n",
            " 3   Num Games       1884 non-null   int64  \n",
            " 4   ECO             1884 non-null   object \n",
            " 5   Last Played     1884 non-null   object \n",
            " 6   Perf Rating     1884 non-null   int64  \n",
            " 7   Avg Player      1884 non-null   int64  \n",
            " 8   Player Win %    1884 non-null   float64\n",
            " 9   Draw %          1884 non-null   float64\n",
            " 10  Opponent Win %  1884 non-null   float64\n",
            " 11  Moves           1884 non-null   object \n",
            " 12  moves_list      1884 non-null   object \n",
            " 13  move1w          1884 non-null   object \n",
            " 14  move1b          1869 non-null   object \n",
            " 15  move2w          1814 non-null   object \n",
            " 16  move2b          1744 non-null   object \n",
            " 17  move3w          1628 non-null   object \n",
            " 18  move3b          1501 non-null   object \n",
            " 19  move4w          1340 non-null   object \n",
            " 20  move4b          1186 non-null   object \n",
            " 21  White_win%      1884 non-null   float64\n",
            " 22  Black_win%      1884 non-null   float64\n",
            " 23  White_odds      1884 non-null   float64\n",
            " 24  White_Wins      1884 non-null   float64\n",
            " 25  Black_Wins      1884 non-null   float64\n",
            "dtypes: float64(8), int64(4), object(14)\n",
            "memory usage: 382.8+ KB\n"
          ]
        }
      ],
      "source": [
        "#all above in one place with .info()\n",
        "moves.info()"
      ]
    },
    {
      "cell_type": "markdown",
      "id": "50744ee4-21df-4c32-b21b-21a6868e3f29",
      "metadata": {
        "id": "50744ee4-21df-4c32-b21b-21a6868e3f29"
      },
      "source": [
        "Turns out we can even just use the url to a `.csv` file as the filepath to create a `DataFrame` with.  In our repo, let's look at the \"raw\" data by selecting the [raw](https://raw.githubusercontent.com/jfkoehler/nyu_bootcamp_fa25/refs/heads/main/data/Ames_Housing_Sales.csv) button for the Ames data."
      ]
    },
    {
      "cell_type": "code",
      "execution_count": 21,
      "id": "1d080b62-24e1-446e-b01c-88eaa67e1d16",
      "metadata": {
        "colab": {
          "base_uri": "https://localhost:8080/",
          "height": 543
        },
        "id": "1d080b62-24e1-446e-b01c-88eaa67e1d16",
        "outputId": "4f1d0f48-53f2-46c9-cd51-a887ef98e338"
      },
      "outputs": [
        {
          "output_type": "error",
          "ename": "ParserError",
          "evalue": "Error tokenizing data. C error: Expected 1 fields in line 38, saw 2\n",
          "traceback": [
            "\u001b[0;31m---------------------------------------------------------------------------\u001b[0m",
            "\u001b[0;31mParserError\u001b[0m                               Traceback (most recent call last)",
            "\u001b[0;32m/tmp/ipython-input-4192757211.py\u001b[0m in \u001b[0;36m<cell line: 0>\u001b[0;34m()\u001b[0m\n\u001b[1;32m      1\u001b[0m \u001b[0;31m#url to .csv raw data\u001b[0m\u001b[0;34m\u001b[0m\u001b[0;34m\u001b[0m\u001b[0m\n\u001b[1;32m      2\u001b[0m \u001b[0murl\u001b[0m \u001b[0;34m=\u001b[0m \u001b[0;34m'https://github.com/Kaggle/kagglehub/blob/main/README.md#kaggledatasetadapterpandas'\u001b[0m\u001b[0;34m\u001b[0m\u001b[0;34m\u001b[0m\u001b[0m\n\u001b[0;32m----> 3\u001b[0;31m \u001b[0mmoves\u001b[0m\u001b[0;34m=\u001b[0m\u001b[0mpd\u001b[0m\u001b[0;34m.\u001b[0m\u001b[0mread_csv\u001b[0m\u001b[0;34m(\u001b[0m\u001b[0murl\u001b[0m\u001b[0;34m)\u001b[0m\u001b[0;34m\u001b[0m\u001b[0;34m\u001b[0m\u001b[0m\n\u001b[0m",
            "\u001b[0;32m/usr/local/lib/python3.12/dist-packages/pandas/io/parsers/readers.py\u001b[0m in \u001b[0;36mread_csv\u001b[0;34m(filepath_or_buffer, sep, delimiter, header, names, index_col, usecols, dtype, engine, converters, true_values, false_values, skipinitialspace, skiprows, skipfooter, nrows, na_values, keep_default_na, na_filter, verbose, skip_blank_lines, parse_dates, infer_datetime_format, keep_date_col, date_parser, date_format, dayfirst, cache_dates, iterator, chunksize, compression, thousands, decimal, lineterminator, quotechar, quoting, doublequote, escapechar, comment, encoding, encoding_errors, dialect, on_bad_lines, delim_whitespace, low_memory, memory_map, float_precision, storage_options, dtype_backend)\u001b[0m\n\u001b[1;32m   1024\u001b[0m     \u001b[0mkwds\u001b[0m\u001b[0;34m.\u001b[0m\u001b[0mupdate\u001b[0m\u001b[0;34m(\u001b[0m\u001b[0mkwds_defaults\u001b[0m\u001b[0;34m)\u001b[0m\u001b[0;34m\u001b[0m\u001b[0;34m\u001b[0m\u001b[0m\n\u001b[1;32m   1025\u001b[0m \u001b[0;34m\u001b[0m\u001b[0m\n\u001b[0;32m-> 1026\u001b[0;31m     \u001b[0;32mreturn\u001b[0m \u001b[0m_read\u001b[0m\u001b[0;34m(\u001b[0m\u001b[0mfilepath_or_buffer\u001b[0m\u001b[0;34m,\u001b[0m \u001b[0mkwds\u001b[0m\u001b[0;34m)\u001b[0m\u001b[0;34m\u001b[0m\u001b[0;34m\u001b[0m\u001b[0m\n\u001b[0m\u001b[1;32m   1027\u001b[0m \u001b[0;34m\u001b[0m\u001b[0m\n\u001b[1;32m   1028\u001b[0m \u001b[0;34m\u001b[0m\u001b[0m\n",
            "\u001b[0;32m/usr/local/lib/python3.12/dist-packages/pandas/io/parsers/readers.py\u001b[0m in \u001b[0;36m_read\u001b[0;34m(filepath_or_buffer, kwds)\u001b[0m\n\u001b[1;32m    624\u001b[0m \u001b[0;34m\u001b[0m\u001b[0m\n\u001b[1;32m    625\u001b[0m     \u001b[0;32mwith\u001b[0m \u001b[0mparser\u001b[0m\u001b[0;34m:\u001b[0m\u001b[0;34m\u001b[0m\u001b[0;34m\u001b[0m\u001b[0m\n\u001b[0;32m--> 626\u001b[0;31m         \u001b[0;32mreturn\u001b[0m \u001b[0mparser\u001b[0m\u001b[0;34m.\u001b[0m\u001b[0mread\u001b[0m\u001b[0;34m(\u001b[0m\u001b[0mnrows\u001b[0m\u001b[0;34m)\u001b[0m\u001b[0;34m\u001b[0m\u001b[0;34m\u001b[0m\u001b[0m\n\u001b[0m\u001b[1;32m    627\u001b[0m \u001b[0;34m\u001b[0m\u001b[0m\n\u001b[1;32m    628\u001b[0m \u001b[0;34m\u001b[0m\u001b[0m\n",
            "\u001b[0;32m/usr/local/lib/python3.12/dist-packages/pandas/io/parsers/readers.py\u001b[0m in \u001b[0;36mread\u001b[0;34m(self, nrows)\u001b[0m\n\u001b[1;32m   1921\u001b[0m                     \u001b[0mcolumns\u001b[0m\u001b[0;34m,\u001b[0m\u001b[0;34m\u001b[0m\u001b[0;34m\u001b[0m\u001b[0m\n\u001b[1;32m   1922\u001b[0m                     \u001b[0mcol_dict\u001b[0m\u001b[0;34m,\u001b[0m\u001b[0;34m\u001b[0m\u001b[0;34m\u001b[0m\u001b[0m\n\u001b[0;32m-> 1923\u001b[0;31m                 \u001b[0;34m)\u001b[0m \u001b[0;34m=\u001b[0m \u001b[0mself\u001b[0m\u001b[0;34m.\u001b[0m\u001b[0m_engine\u001b[0m\u001b[0;34m.\u001b[0m\u001b[0mread\u001b[0m\u001b[0;34m(\u001b[0m  \u001b[0;31m# type: ignore[attr-defined]\u001b[0m\u001b[0;34m\u001b[0m\u001b[0;34m\u001b[0m\u001b[0m\n\u001b[0m\u001b[1;32m   1924\u001b[0m                     \u001b[0mnrows\u001b[0m\u001b[0;34m\u001b[0m\u001b[0;34m\u001b[0m\u001b[0m\n\u001b[1;32m   1925\u001b[0m                 )\n",
            "\u001b[0;32m/usr/local/lib/python3.12/dist-packages/pandas/io/parsers/c_parser_wrapper.py\u001b[0m in \u001b[0;36mread\u001b[0;34m(self, nrows)\u001b[0m\n\u001b[1;32m    232\u001b[0m         \u001b[0;32mtry\u001b[0m\u001b[0;34m:\u001b[0m\u001b[0;34m\u001b[0m\u001b[0;34m\u001b[0m\u001b[0m\n\u001b[1;32m    233\u001b[0m             \u001b[0;32mif\u001b[0m \u001b[0mself\u001b[0m\u001b[0;34m.\u001b[0m\u001b[0mlow_memory\u001b[0m\u001b[0;34m:\u001b[0m\u001b[0;34m\u001b[0m\u001b[0;34m\u001b[0m\u001b[0m\n\u001b[0;32m--> 234\u001b[0;31m                 \u001b[0mchunks\u001b[0m \u001b[0;34m=\u001b[0m \u001b[0mself\u001b[0m\u001b[0;34m.\u001b[0m\u001b[0m_reader\u001b[0m\u001b[0;34m.\u001b[0m\u001b[0mread_low_memory\u001b[0m\u001b[0;34m(\u001b[0m\u001b[0mnrows\u001b[0m\u001b[0;34m)\u001b[0m\u001b[0;34m\u001b[0m\u001b[0;34m\u001b[0m\u001b[0m\n\u001b[0m\u001b[1;32m    235\u001b[0m                 \u001b[0;31m# destructive to chunks\u001b[0m\u001b[0;34m\u001b[0m\u001b[0;34m\u001b[0m\u001b[0m\n\u001b[1;32m    236\u001b[0m                 \u001b[0mdata\u001b[0m \u001b[0;34m=\u001b[0m \u001b[0m_concatenate_chunks\u001b[0m\u001b[0;34m(\u001b[0m\u001b[0mchunks\u001b[0m\u001b[0;34m)\u001b[0m\u001b[0;34m\u001b[0m\u001b[0;34m\u001b[0m\u001b[0m\n",
            "\u001b[0;32mparsers.pyx\u001b[0m in \u001b[0;36mpandas._libs.parsers.TextReader.read_low_memory\u001b[0;34m()\u001b[0m\n",
            "\u001b[0;32mparsers.pyx\u001b[0m in \u001b[0;36mpandas._libs.parsers.TextReader._read_rows\u001b[0;34m()\u001b[0m\n",
            "\u001b[0;32mparsers.pyx\u001b[0m in \u001b[0;36mpandas._libs.parsers.TextReader._tokenize_rows\u001b[0;34m()\u001b[0m\n",
            "\u001b[0;32mparsers.pyx\u001b[0m in \u001b[0;36mpandas._libs.parsers.TextReader._check_tokenize_status\u001b[0;34m()\u001b[0m\n",
            "\u001b[0;32mparsers.pyx\u001b[0m in \u001b[0;36mpandas._libs.parsers.raise_parser_error\u001b[0;34m()\u001b[0m\n",
            "\u001b[0;31mParserError\u001b[0m: Error tokenizing data. C error: Expected 1 fields in line 38, saw 2\n"
          ]
        }
      ],
      "source": [
        "#url to .csv raw data\n",
        "url = 'https://github.com/Kaggle/kagglehub/blob/main/README.md#kaggledatasetadapterpandas'\n",
        "moves=pd.read_csv(url)\n",
        "\n",
        "##need help with this one!!!"
      ]
    },
    {
      "cell_type": "code",
      "execution_count": null,
      "id": "d8904ab6-7161-4bcb-abe0-8b6508fcec8c",
      "metadata": {
        "id": "d8904ab6-7161-4bcb-abe0-8b6508fcec8c"
      },
      "outputs": [],
      "source": [
        "#use read_csv to read url to dataframe\n"
      ]
    },
    {
      "cell_type": "code",
      "execution_count": 22,
      "id": "0860c328-adaa-48f4-8c77-ec565c4d769a",
      "metadata": {
        "colab": {
          "base_uri": "https://localhost:8080/",
          "height": 1000
        },
        "id": "0860c328-adaa-48f4-8c77-ec565c4d769a",
        "outputId": "d4ede0f5-58a4-46fc-cd73-7899e206e3b5"
      },
      "outputs": [
        {
          "output_type": "execute_result",
          "data": {
            "text/plain": [
              "   Unnamed: 0                                            Opening Colour  \\\n",
              "0           0                 Alekhine Defense, Balogh Variation  white   \n",
              "1           1               Alekhine Defense, Brooklyn Variation  black   \n",
              "2           2               Alekhine Defense, Exchange Variation  white   \n",
              "3           3                Alekhine Defense, Four Pawns Attack  white   \n",
              "4           4  Alekhine Defense, Four Pawns Attack, Fianchett...  black   \n",
              "5           5     Alekhine Defense, Four Pawns Attack, Main Line  white   \n",
              "6           6  Alekhine Defense, Four Pawns Attack, Trifunovi...  black   \n",
              "7           7                          Alekhine Defense, General  black   \n",
              "8           8  Alekhine Defense, Hunt Variation, Lasker Simul...  white   \n",
              "9           9                Alekhine Defense, Maroczy Variation  white   \n",
              "\n",
              "   Num Games  ECO Last Played  Perf Rating  Avg Player  Player Win %  Draw %  \\\n",
              "0        692  B03  2018-06-22         2247        2225          40.8    24.3   \n",
              "1        228  B02  2018-06-27         2145        2193          29.8    22.4   \n",
              "2       6485  B03  2018-07-06         2244        2194          40.8    27.7   \n",
              "3        881  B03  2018-06-20         2187        2130          39.7    23.2   \n",
              "4        259  B03  2018-05-20         2122        2178          37.8    21.2   \n",
              "5       1207  B03  2018-07-01         2243        2190          41.0    25.9   \n",
              "6        323  B03  2018-05-10         2231        2277          35.9    24.8   \n",
              "7        524  B02  2018-06-29         2032        2077          42.2    25.0   \n",
              "8        334  B02  2018-06-27         2205        2178          34.1    23.6   \n",
              "9        931  B02  2018-07-09         2174        2174          36.6    25.7   \n",
              "\n",
              "   ...  move2b move3w move3b move4w move4b White_win% Black_win% White_odds  \\\n",
              "0  ...     Nd5     d4     d6    Bc4    NaN       40.8       35.0   1.165714   \n",
              "1  ...     Ng8    NaN    NaN    NaN    NaN       47.8       29.8   1.604027   \n",
              "2  ...     Nd5     d4     d6     c4    Nb6       40.8       31.5   1.295238   \n",
              "3  ...     Nd5     d4     d6     c4    Nb6       39.7       37.1   1.070081   \n",
              "4  ...     Nd5     d4     d6     c4    Nb6       40.9       37.8   1.082011   \n",
              "5  ...     Nd5     d4     d6     c4    Nb6       41.0       33.1   1.238671   \n",
              "6  ...     Nd5     d4     d6     c4    Nb6       39.3       35.9   1.094708   \n",
              "7  ...     NaN    NaN    NaN    NaN    NaN       32.8       42.2   0.777251   \n",
              "8  ...     Nd5     c4    Nb6     c5    Nd5       34.1       42.2   0.808057   \n",
              "9  ...     NaN    NaN    NaN    NaN    NaN       36.6       37.7   0.970822   \n",
              "\n",
              "  White_Wins Black_Wins  \n",
              "0    282.336    242.200  \n",
              "1    108.984     67.944  \n",
              "2   2645.880   2042.775  \n",
              "3    349.757    326.851  \n",
              "4    105.931     97.902  \n",
              "5    494.870    399.517  \n",
              "6    126.939    115.957  \n",
              "7    171.872    221.128  \n",
              "8    113.894    140.948  \n",
              "9    340.746    350.987  \n",
              "\n",
              "[10 rows x 26 columns]"
            ],
            "text/html": [
              "\n",
              "  <div id=\"df-46dbba13-a424-4b79-8e53-38993cfed3b5\" class=\"colab-df-container\">\n",
              "    <div>\n",
              "<style scoped>\n",
              "    .dataframe tbody tr th:only-of-type {\n",
              "        vertical-align: middle;\n",
              "    }\n",
              "\n",
              "    .dataframe tbody tr th {\n",
              "        vertical-align: top;\n",
              "    }\n",
              "\n",
              "    .dataframe thead th {\n",
              "        text-align: right;\n",
              "    }\n",
              "</style>\n",
              "<table border=\"1\" class=\"dataframe\">\n",
              "  <thead>\n",
              "    <tr style=\"text-align: right;\">\n",
              "      <th></th>\n",
              "      <th>Unnamed: 0</th>\n",
              "      <th>Opening</th>\n",
              "      <th>Colour</th>\n",
              "      <th>Num Games</th>\n",
              "      <th>ECO</th>\n",
              "      <th>Last Played</th>\n",
              "      <th>Perf Rating</th>\n",
              "      <th>Avg Player</th>\n",
              "      <th>Player Win %</th>\n",
              "      <th>Draw %</th>\n",
              "      <th>...</th>\n",
              "      <th>move2b</th>\n",
              "      <th>move3w</th>\n",
              "      <th>move3b</th>\n",
              "      <th>move4w</th>\n",
              "      <th>move4b</th>\n",
              "      <th>White_win%</th>\n",
              "      <th>Black_win%</th>\n",
              "      <th>White_odds</th>\n",
              "      <th>White_Wins</th>\n",
              "      <th>Black_Wins</th>\n",
              "    </tr>\n",
              "  </thead>\n",
              "  <tbody>\n",
              "    <tr>\n",
              "      <th>0</th>\n",
              "      <td>0</td>\n",
              "      <td>Alekhine Defense, Balogh Variation</td>\n",
              "      <td>white</td>\n",
              "      <td>692</td>\n",
              "      <td>B03</td>\n",
              "      <td>2018-06-22</td>\n",
              "      <td>2247</td>\n",
              "      <td>2225</td>\n",
              "      <td>40.8</td>\n",
              "      <td>24.3</td>\n",
              "      <td>...</td>\n",
              "      <td>Nd5</td>\n",
              "      <td>d4</td>\n",
              "      <td>d6</td>\n",
              "      <td>Bc4</td>\n",
              "      <td>NaN</td>\n",
              "      <td>40.8</td>\n",
              "      <td>35.0</td>\n",
              "      <td>1.165714</td>\n",
              "      <td>282.336</td>\n",
              "      <td>242.200</td>\n",
              "    </tr>\n",
              "    <tr>\n",
              "      <th>1</th>\n",
              "      <td>1</td>\n",
              "      <td>Alekhine Defense, Brooklyn Variation</td>\n",
              "      <td>black</td>\n",
              "      <td>228</td>\n",
              "      <td>B02</td>\n",
              "      <td>2018-06-27</td>\n",
              "      <td>2145</td>\n",
              "      <td>2193</td>\n",
              "      <td>29.8</td>\n",
              "      <td>22.4</td>\n",
              "      <td>...</td>\n",
              "      <td>Ng8</td>\n",
              "      <td>NaN</td>\n",
              "      <td>NaN</td>\n",
              "      <td>NaN</td>\n",
              "      <td>NaN</td>\n",
              "      <td>47.8</td>\n",
              "      <td>29.8</td>\n",
              "      <td>1.604027</td>\n",
              "      <td>108.984</td>\n",
              "      <td>67.944</td>\n",
              "    </tr>\n",
              "    <tr>\n",
              "      <th>2</th>\n",
              "      <td>2</td>\n",
              "      <td>Alekhine Defense, Exchange Variation</td>\n",
              "      <td>white</td>\n",
              "      <td>6485</td>\n",
              "      <td>B03</td>\n",
              "      <td>2018-07-06</td>\n",
              "      <td>2244</td>\n",
              "      <td>2194</td>\n",
              "      <td>40.8</td>\n",
              "      <td>27.7</td>\n",
              "      <td>...</td>\n",
              "      <td>Nd5</td>\n",
              "      <td>d4</td>\n",
              "      <td>d6</td>\n",
              "      <td>c4</td>\n",
              "      <td>Nb6</td>\n",
              "      <td>40.8</td>\n",
              "      <td>31.5</td>\n",
              "      <td>1.295238</td>\n",
              "      <td>2645.880</td>\n",
              "      <td>2042.775</td>\n",
              "    </tr>\n",
              "    <tr>\n",
              "      <th>3</th>\n",
              "      <td>3</td>\n",
              "      <td>Alekhine Defense, Four Pawns Attack</td>\n",
              "      <td>white</td>\n",
              "      <td>881</td>\n",
              "      <td>B03</td>\n",
              "      <td>2018-06-20</td>\n",
              "      <td>2187</td>\n",
              "      <td>2130</td>\n",
              "      <td>39.7</td>\n",
              "      <td>23.2</td>\n",
              "      <td>...</td>\n",
              "      <td>Nd5</td>\n",
              "      <td>d4</td>\n",
              "      <td>d6</td>\n",
              "      <td>c4</td>\n",
              "      <td>Nb6</td>\n",
              "      <td>39.7</td>\n",
              "      <td>37.1</td>\n",
              "      <td>1.070081</td>\n",
              "      <td>349.757</td>\n",
              "      <td>326.851</td>\n",
              "    </tr>\n",
              "    <tr>\n",
              "      <th>4</th>\n",
              "      <td>4</td>\n",
              "      <td>Alekhine Defense, Four Pawns Attack, Fianchett...</td>\n",
              "      <td>black</td>\n",
              "      <td>259</td>\n",
              "      <td>B03</td>\n",
              "      <td>2018-05-20</td>\n",
              "      <td>2122</td>\n",
              "      <td>2178</td>\n",
              "      <td>37.8</td>\n",
              "      <td>21.2</td>\n",
              "      <td>...</td>\n",
              "      <td>Nd5</td>\n",
              "      <td>d4</td>\n",
              "      <td>d6</td>\n",
              "      <td>c4</td>\n",
              "      <td>Nb6</td>\n",
              "      <td>40.9</td>\n",
              "      <td>37.8</td>\n",
              "      <td>1.082011</td>\n",
              "      <td>105.931</td>\n",
              "      <td>97.902</td>\n",
              "    </tr>\n",
              "    <tr>\n",
              "      <th>5</th>\n",
              "      <td>5</td>\n",
              "      <td>Alekhine Defense, Four Pawns Attack, Main Line</td>\n",
              "      <td>white</td>\n",
              "      <td>1207</td>\n",
              "      <td>B03</td>\n",
              "      <td>2018-07-01</td>\n",
              "      <td>2243</td>\n",
              "      <td>2190</td>\n",
              "      <td>41.0</td>\n",
              "      <td>25.9</td>\n",
              "      <td>...</td>\n",
              "      <td>Nd5</td>\n",
              "      <td>d4</td>\n",
              "      <td>d6</td>\n",
              "      <td>c4</td>\n",
              "      <td>Nb6</td>\n",
              "      <td>41.0</td>\n",
              "      <td>33.1</td>\n",
              "      <td>1.238671</td>\n",
              "      <td>494.870</td>\n",
              "      <td>399.517</td>\n",
              "    </tr>\n",
              "    <tr>\n",
              "      <th>6</th>\n",
              "      <td>6</td>\n",
              "      <td>Alekhine Defense, Four Pawns Attack, Trifunovi...</td>\n",
              "      <td>black</td>\n",
              "      <td>323</td>\n",
              "      <td>B03</td>\n",
              "      <td>2018-05-10</td>\n",
              "      <td>2231</td>\n",
              "      <td>2277</td>\n",
              "      <td>35.9</td>\n",
              "      <td>24.8</td>\n",
              "      <td>...</td>\n",
              "      <td>Nd5</td>\n",
              "      <td>d4</td>\n",
              "      <td>d6</td>\n",
              "      <td>c4</td>\n",
              "      <td>Nb6</td>\n",
              "      <td>39.3</td>\n",
              "      <td>35.9</td>\n",
              "      <td>1.094708</td>\n",
              "      <td>126.939</td>\n",
              "      <td>115.957</td>\n",
              "    </tr>\n",
              "    <tr>\n",
              "      <th>7</th>\n",
              "      <td>7</td>\n",
              "      <td>Alekhine Defense, General</td>\n",
              "      <td>black</td>\n",
              "      <td>524</td>\n",
              "      <td>B02</td>\n",
              "      <td>2018-06-29</td>\n",
              "      <td>2032</td>\n",
              "      <td>2077</td>\n",
              "      <td>42.2</td>\n",
              "      <td>25.0</td>\n",
              "      <td>...</td>\n",
              "      <td>NaN</td>\n",
              "      <td>NaN</td>\n",
              "      <td>NaN</td>\n",
              "      <td>NaN</td>\n",
              "      <td>NaN</td>\n",
              "      <td>32.8</td>\n",
              "      <td>42.2</td>\n",
              "      <td>0.777251</td>\n",
              "      <td>171.872</td>\n",
              "      <td>221.128</td>\n",
              "    </tr>\n",
              "    <tr>\n",
              "      <th>8</th>\n",
              "      <td>8</td>\n",
              "      <td>Alekhine Defense, Hunt Variation, Lasker Simul...</td>\n",
              "      <td>white</td>\n",
              "      <td>334</td>\n",
              "      <td>B02</td>\n",
              "      <td>2018-06-27</td>\n",
              "      <td>2205</td>\n",
              "      <td>2178</td>\n",
              "      <td>34.1</td>\n",
              "      <td>23.6</td>\n",
              "      <td>...</td>\n",
              "      <td>Nd5</td>\n",
              "      <td>c4</td>\n",
              "      <td>Nb6</td>\n",
              "      <td>c5</td>\n",
              "      <td>Nd5</td>\n",
              "      <td>34.1</td>\n",
              "      <td>42.2</td>\n",
              "      <td>0.808057</td>\n",
              "      <td>113.894</td>\n",
              "      <td>140.948</td>\n",
              "    </tr>\n",
              "    <tr>\n",
              "      <th>9</th>\n",
              "      <td>9</td>\n",
              "      <td>Alekhine Defense, Maroczy Variation</td>\n",
              "      <td>white</td>\n",
              "      <td>931</td>\n",
              "      <td>B02</td>\n",
              "      <td>2018-07-09</td>\n",
              "      <td>2174</td>\n",
              "      <td>2174</td>\n",
              "      <td>36.6</td>\n",
              "      <td>25.7</td>\n",
              "      <td>...</td>\n",
              "      <td>NaN</td>\n",
              "      <td>NaN</td>\n",
              "      <td>NaN</td>\n",
              "      <td>NaN</td>\n",
              "      <td>NaN</td>\n",
              "      <td>36.6</td>\n",
              "      <td>37.7</td>\n",
              "      <td>0.970822</td>\n",
              "      <td>340.746</td>\n",
              "      <td>350.987</td>\n",
              "    </tr>\n",
              "  </tbody>\n",
              "</table>\n",
              "<p>10 rows × 26 columns</p>\n",
              "</div>\n",
              "    <div class=\"colab-df-buttons\">\n",
              "\n",
              "  <div class=\"colab-df-container\">\n",
              "    <button class=\"colab-df-convert\" onclick=\"convertToInteractive('df-46dbba13-a424-4b79-8e53-38993cfed3b5')\"\n",
              "            title=\"Convert this dataframe to an interactive table.\"\n",
              "            style=\"display:none;\">\n",
              "\n",
              "  <svg xmlns=\"http://www.w3.org/2000/svg\" height=\"24px\" viewBox=\"0 -960 960 960\">\n",
              "    <path d=\"M120-120v-720h720v720H120Zm60-500h600v-160H180v160Zm220 220h160v-160H400v160Zm0 220h160v-160H400v160ZM180-400h160v-160H180v160Zm440 0h160v-160H620v160ZM180-180h160v-160H180v160Zm440 0h160v-160H620v160Z\"/>\n",
              "  </svg>\n",
              "    </button>\n",
              "\n",
              "  <style>\n",
              "    .colab-df-container {\n",
              "      display:flex;\n",
              "      gap: 12px;\n",
              "    }\n",
              "\n",
              "    .colab-df-convert {\n",
              "      background-color: #E8F0FE;\n",
              "      border: none;\n",
              "      border-radius: 50%;\n",
              "      cursor: pointer;\n",
              "      display: none;\n",
              "      fill: #1967D2;\n",
              "      height: 32px;\n",
              "      padding: 0 0 0 0;\n",
              "      width: 32px;\n",
              "    }\n",
              "\n",
              "    .colab-df-convert:hover {\n",
              "      background-color: #E2EBFA;\n",
              "      box-shadow: 0px 1px 2px rgba(60, 64, 67, 0.3), 0px 1px 3px 1px rgba(60, 64, 67, 0.15);\n",
              "      fill: #174EA6;\n",
              "    }\n",
              "\n",
              "    .colab-df-buttons div {\n",
              "      margin-bottom: 4px;\n",
              "    }\n",
              "\n",
              "    [theme=dark] .colab-df-convert {\n",
              "      background-color: #3B4455;\n",
              "      fill: #D2E3FC;\n",
              "    }\n",
              "\n",
              "    [theme=dark] .colab-df-convert:hover {\n",
              "      background-color: #434B5C;\n",
              "      box-shadow: 0px 1px 3px 1px rgba(0, 0, 0, 0.15);\n",
              "      filter: drop-shadow(0px 1px 2px rgba(0, 0, 0, 0.3));\n",
              "      fill: #FFFFFF;\n",
              "    }\n",
              "  </style>\n",
              "\n",
              "    <script>\n",
              "      const buttonEl =\n",
              "        document.querySelector('#df-46dbba13-a424-4b79-8e53-38993cfed3b5 button.colab-df-convert');\n",
              "      buttonEl.style.display =\n",
              "        google.colab.kernel.accessAllowed ? 'block' : 'none';\n",
              "\n",
              "      async function convertToInteractive(key) {\n",
              "        const element = document.querySelector('#df-46dbba13-a424-4b79-8e53-38993cfed3b5');\n",
              "        const dataTable =\n",
              "          await google.colab.kernel.invokeFunction('convertToInteractive',\n",
              "                                                    [key], {});\n",
              "        if (!dataTable) return;\n",
              "\n",
              "        const docLinkHtml = 'Like what you see? Visit the ' +\n",
              "          '<a target=\"_blank\" href=https://colab.research.google.com/notebooks/data_table.ipynb>data table notebook</a>'\n",
              "          + ' to learn more about interactive tables.';\n",
              "        element.innerHTML = '';\n",
              "        dataTable['output_type'] = 'display_data';\n",
              "        await google.colab.output.renderOutput(dataTable, element);\n",
              "        const docLink = document.createElement('div');\n",
              "        docLink.innerHTML = docLinkHtml;\n",
              "        element.appendChild(docLink);\n",
              "      }\n",
              "    </script>\n",
              "  </div>\n",
              "\n",
              "\n",
              "    <div id=\"df-d90fa036-c28e-480c-ad54-a61287bab898\">\n",
              "      <button class=\"colab-df-quickchart\" onclick=\"quickchart('df-d90fa036-c28e-480c-ad54-a61287bab898')\"\n",
              "                title=\"Suggest charts\"\n",
              "                style=\"display:none;\">\n",
              "\n",
              "<svg xmlns=\"http://www.w3.org/2000/svg\" height=\"24px\"viewBox=\"0 0 24 24\"\n",
              "     width=\"24px\">\n",
              "    <g>\n",
              "        <path d=\"M19 3H5c-1.1 0-2 .9-2 2v14c0 1.1.9 2 2 2h14c1.1 0 2-.9 2-2V5c0-1.1-.9-2-2-2zM9 17H7v-7h2v7zm4 0h-2V7h2v10zm4 0h-2v-4h2v4z\"/>\n",
              "    </g>\n",
              "</svg>\n",
              "      </button>\n",
              "\n",
              "<style>\n",
              "  .colab-df-quickchart {\n",
              "      --bg-color: #E8F0FE;\n",
              "      --fill-color: #1967D2;\n",
              "      --hover-bg-color: #E2EBFA;\n",
              "      --hover-fill-color: #174EA6;\n",
              "      --disabled-fill-color: #AAA;\n",
              "      --disabled-bg-color: #DDD;\n",
              "  }\n",
              "\n",
              "  [theme=dark] .colab-df-quickchart {\n",
              "      --bg-color: #3B4455;\n",
              "      --fill-color: #D2E3FC;\n",
              "      --hover-bg-color: #434B5C;\n",
              "      --hover-fill-color: #FFFFFF;\n",
              "      --disabled-bg-color: #3B4455;\n",
              "      --disabled-fill-color: #666;\n",
              "  }\n",
              "\n",
              "  .colab-df-quickchart {\n",
              "    background-color: var(--bg-color);\n",
              "    border: none;\n",
              "    border-radius: 50%;\n",
              "    cursor: pointer;\n",
              "    display: none;\n",
              "    fill: var(--fill-color);\n",
              "    height: 32px;\n",
              "    padding: 0;\n",
              "    width: 32px;\n",
              "  }\n",
              "\n",
              "  .colab-df-quickchart:hover {\n",
              "    background-color: var(--hover-bg-color);\n",
              "    box-shadow: 0 1px 2px rgba(60, 64, 67, 0.3), 0 1px 3px 1px rgba(60, 64, 67, 0.15);\n",
              "    fill: var(--button-hover-fill-color);\n",
              "  }\n",
              "\n",
              "  .colab-df-quickchart-complete:disabled,\n",
              "  .colab-df-quickchart-complete:disabled:hover {\n",
              "    background-color: var(--disabled-bg-color);\n",
              "    fill: var(--disabled-fill-color);\n",
              "    box-shadow: none;\n",
              "  }\n",
              "\n",
              "  .colab-df-spinner {\n",
              "    border: 2px solid var(--fill-color);\n",
              "    border-color: transparent;\n",
              "    border-bottom-color: var(--fill-color);\n",
              "    animation:\n",
              "      spin 1s steps(1) infinite;\n",
              "  }\n",
              "\n",
              "  @keyframes spin {\n",
              "    0% {\n",
              "      border-color: transparent;\n",
              "      border-bottom-color: var(--fill-color);\n",
              "      border-left-color: var(--fill-color);\n",
              "    }\n",
              "    20% {\n",
              "      border-color: transparent;\n",
              "      border-left-color: var(--fill-color);\n",
              "      border-top-color: var(--fill-color);\n",
              "    }\n",
              "    30% {\n",
              "      border-color: transparent;\n",
              "      border-left-color: var(--fill-color);\n",
              "      border-top-color: var(--fill-color);\n",
              "      border-right-color: var(--fill-color);\n",
              "    }\n",
              "    40% {\n",
              "      border-color: transparent;\n",
              "      border-right-color: var(--fill-color);\n",
              "      border-top-color: var(--fill-color);\n",
              "    }\n",
              "    60% {\n",
              "      border-color: transparent;\n",
              "      border-right-color: var(--fill-color);\n",
              "    }\n",
              "    80% {\n",
              "      border-color: transparent;\n",
              "      border-right-color: var(--fill-color);\n",
              "      border-bottom-color: var(--fill-color);\n",
              "    }\n",
              "    90% {\n",
              "      border-color: transparent;\n",
              "      border-bottom-color: var(--fill-color);\n",
              "    }\n",
              "  }\n",
              "</style>\n",
              "\n",
              "      <script>\n",
              "        async function quickchart(key) {\n",
              "          const quickchartButtonEl =\n",
              "            document.querySelector('#' + key + ' button');\n",
              "          quickchartButtonEl.disabled = true;  // To prevent multiple clicks.\n",
              "          quickchartButtonEl.classList.add('colab-df-spinner');\n",
              "          try {\n",
              "            const charts = await google.colab.kernel.invokeFunction(\n",
              "                'suggestCharts', [key], {});\n",
              "          } catch (error) {\n",
              "            console.error('Error during call to suggestCharts:', error);\n",
              "          }\n",
              "          quickchartButtonEl.classList.remove('colab-df-spinner');\n",
              "          quickchartButtonEl.classList.add('colab-df-quickchart-complete');\n",
              "        }\n",
              "        (() => {\n",
              "          let quickchartButtonEl =\n",
              "            document.querySelector('#df-d90fa036-c28e-480c-ad54-a61287bab898 button');\n",
              "          quickchartButtonEl.style.display =\n",
              "            google.colab.kernel.accessAllowed ? 'block' : 'none';\n",
              "        })();\n",
              "      </script>\n",
              "    </div>\n",
              "\n",
              "    </div>\n",
              "  </div>\n"
            ],
            "application/vnd.google.colaboratory.intrinsic+json": {
              "type": "dataframe",
              "variable_name": "moves"
            }
          },
          "metadata": {},
          "execution_count": 22
        }
      ],
      "source": [
        "#look at first 10 rows\n",
        "moves.head(10)"
      ]
    },
    {
      "cell_type": "code",
      "execution_count": 23,
      "id": "e5629ed6-972b-4c53-bdf5-04bee8f8c6f8",
      "metadata": {
        "colab": {
          "base_uri": "https://localhost:8080/"
        },
        "id": "e5629ed6-972b-4c53-bdf5-04bee8f8c6f8",
        "outputId": "923f4df0-7c24-4e7a-d959-57006d9cd577"
      },
      "outputs": [
        {
          "output_type": "stream",
          "name": "stdout",
          "text": [
            "<class 'pandas.core.frame.DataFrame'>\n",
            "RangeIndex: 1884 entries, 0 to 1883\n",
            "Data columns (total 26 columns):\n",
            " #   Column          Non-Null Count  Dtype  \n",
            "---  ------          --------------  -----  \n",
            " 0   Unnamed: 0      1884 non-null   int64  \n",
            " 1   Opening         1884 non-null   object \n",
            " 2   Colour          1884 non-null   object \n",
            " 3   Num Games       1884 non-null   int64  \n",
            " 4   ECO             1884 non-null   object \n",
            " 5   Last Played     1884 non-null   object \n",
            " 6   Perf Rating     1884 non-null   int64  \n",
            " 7   Avg Player      1884 non-null   int64  \n",
            " 8   Player Win %    1884 non-null   float64\n",
            " 9   Draw %          1884 non-null   float64\n",
            " 10  Opponent Win %  1884 non-null   float64\n",
            " 11  Moves           1884 non-null   object \n",
            " 12  moves_list      1884 non-null   object \n",
            " 13  move1w          1884 non-null   object \n",
            " 14  move1b          1869 non-null   object \n",
            " 15  move2w          1814 non-null   object \n",
            " 16  move2b          1744 non-null   object \n",
            " 17  move3w          1628 non-null   object \n",
            " 18  move3b          1501 non-null   object \n",
            " 19  move4w          1340 non-null   object \n",
            " 20  move4b          1186 non-null   object \n",
            " 21  White_win%      1884 non-null   float64\n",
            " 22  Black_win%      1884 non-null   float64\n",
            " 23  White_odds      1884 non-null   float64\n",
            " 24  White_Wins      1884 non-null   float64\n",
            " 25  Black_Wins      1884 non-null   float64\n",
            "dtypes: float64(8), int64(4), object(14)\n",
            "memory usage: 382.8+ KB\n"
          ]
        }
      ],
      "source": [
        "#look over info\n",
        "moves.info()"
      ]
    },
    {
      "cell_type": "markdown",
      "id": "e1b1d864-46d7-4dc0-9e3c-74941fcf807f",
      "metadata": {
        "id": "e1b1d864-46d7-4dc0-9e3c-74941fcf807f"
      },
      "source": [
        "## Selecting Rows and Columns\n",
        "\n",
        "Both the rows and columns can be referred to based on their index *or* their names.  For index selection, we will use the `.iloc` function and for names we use the `.loc` method."
      ]
    },
    {
      "cell_type": "code",
      "execution_count": 28,
      "id": "47be89a4-373a-4561-965b-1e3b61bd04e7",
      "metadata": {
        "colab": {
          "base_uri": "https://localhost:8080/"
        },
        "id": "47be89a4-373a-4561-965b-1e3b61bd04e7",
        "outputId": "fb3f6374-f671-49bb-c0f8-bbd076c9bfed"
      },
      "outputs": [
        {
          "output_type": "stream",
          "name": "stdout",
          "text": [
            "0       white\n",
            "1       black\n",
            "2       white\n",
            "3       white\n",
            "4       black\n",
            "        ...  \n",
            "1879    black\n",
            "1880    black\n",
            "1881    black\n",
            "1882    white\n",
            "1883    black\n",
            "Name: Colour, Length: 1884, dtype: object\n"
          ]
        }
      ],
      "source": [
        "#select one column\n",
        "column_data = moves['Colour']\n",
        "print(column_data)"
      ]
    },
    {
      "cell_type": "code",
      "execution_count": 33,
      "id": "a96ca258-a5b0-4085-a2c1-e658ab45d5a8",
      "metadata": {
        "colab": {
          "base_uri": "https://localhost:8080/"
        },
        "id": "a96ca258-a5b0-4085-a2c1-e658ab45d5a8",
        "outputId": "4d987c0e-8621-4962-c656-0b45e557bbf8"
      },
      "outputs": [
        {
          "output_type": "stream",
          "name": "stdout",
          "text": [
            "      Perf Rating  Player Win %\n",
            "0            2247          40.8\n",
            "1            2145          29.8\n",
            "2            2244          40.8\n",
            "3            2187          39.7\n",
            "4            2122          37.8\n",
            "...           ...           ...\n",
            "1879         2274          31.4\n",
            "1880         2031          27.0\n",
            "1881         2235          28.4\n",
            "1882         1936          36.7\n",
            "1883         2307          21.7\n",
            "\n",
            "[1884 rows x 2 columns]\n"
          ]
        }
      ],
      "source": [
        "#select two columns\n",
        "select_columns = moves[['Perf Rating','Player Win %']]\n",
        "print(select_columns)"
      ]
    },
    {
      "cell_type": "code",
      "execution_count": 40,
      "id": "c5c31ba4-d628-49e9-a264-6401a8e5c2d3",
      "metadata": {
        "colab": {
          "base_uri": "https://localhost:8080/",
          "height": 200
        },
        "id": "c5c31ba4-d628-49e9-a264-6401a8e5c2d3",
        "outputId": "bd244291-8704-44f0-f8bb-4b335ec93396"
      },
      "outputs": [
        {
          "output_type": "execute_result",
          "data": {
            "text/plain": [
              "   Unnamed: 0                             Opening Colour  Num Games  ECO  \\\n",
              "0           0  Alekhine Defense, Balogh Variation  white        692  B03   \n",
              "\n",
              "  Last Played  Perf Rating  Avg Player  Player Win %  Draw %  ...  move2b  \\\n",
              "0  2018-06-22         2247        2225          40.8    24.3  ...     Nd5   \n",
              "\n",
              "  move3w move3b move4w move4b White_win% Black_win% White_odds White_Wins  \\\n",
              "0     d4     d6    Bc4    NaN       40.8       35.0   1.165714    282.336   \n",
              "\n",
              "  Black_Wins  \n",
              "0      242.2  \n",
              "\n",
              "[1 rows x 26 columns]"
            ],
            "text/html": [
              "\n",
              "  <div id=\"df-079eac87-9032-4a6b-8779-a6bc55ad5e3e\" class=\"colab-df-container\">\n",
              "    <div>\n",
              "<style scoped>\n",
              "    .dataframe tbody tr th:only-of-type {\n",
              "        vertical-align: middle;\n",
              "    }\n",
              "\n",
              "    .dataframe tbody tr th {\n",
              "        vertical-align: top;\n",
              "    }\n",
              "\n",
              "    .dataframe thead th {\n",
              "        text-align: right;\n",
              "    }\n",
              "</style>\n",
              "<table border=\"1\" class=\"dataframe\">\n",
              "  <thead>\n",
              "    <tr style=\"text-align: right;\">\n",
              "      <th></th>\n",
              "      <th>Unnamed: 0</th>\n",
              "      <th>Opening</th>\n",
              "      <th>Colour</th>\n",
              "      <th>Num Games</th>\n",
              "      <th>ECO</th>\n",
              "      <th>Last Played</th>\n",
              "      <th>Perf Rating</th>\n",
              "      <th>Avg Player</th>\n",
              "      <th>Player Win %</th>\n",
              "      <th>Draw %</th>\n",
              "      <th>...</th>\n",
              "      <th>move2b</th>\n",
              "      <th>move3w</th>\n",
              "      <th>move3b</th>\n",
              "      <th>move4w</th>\n",
              "      <th>move4b</th>\n",
              "      <th>White_win%</th>\n",
              "      <th>Black_win%</th>\n",
              "      <th>White_odds</th>\n",
              "      <th>White_Wins</th>\n",
              "      <th>Black_Wins</th>\n",
              "    </tr>\n",
              "  </thead>\n",
              "  <tbody>\n",
              "    <tr>\n",
              "      <th>0</th>\n",
              "      <td>0</td>\n",
              "      <td>Alekhine Defense, Balogh Variation</td>\n",
              "      <td>white</td>\n",
              "      <td>692</td>\n",
              "      <td>B03</td>\n",
              "      <td>2018-06-22</td>\n",
              "      <td>2247</td>\n",
              "      <td>2225</td>\n",
              "      <td>40.8</td>\n",
              "      <td>24.3</td>\n",
              "      <td>...</td>\n",
              "      <td>Nd5</td>\n",
              "      <td>d4</td>\n",
              "      <td>d6</td>\n",
              "      <td>Bc4</td>\n",
              "      <td>NaN</td>\n",
              "      <td>40.8</td>\n",
              "      <td>35.0</td>\n",
              "      <td>1.165714</td>\n",
              "      <td>282.336</td>\n",
              "      <td>242.2</td>\n",
              "    </tr>\n",
              "  </tbody>\n",
              "</table>\n",
              "<p>1 rows × 26 columns</p>\n",
              "</div>\n",
              "    <div class=\"colab-df-buttons\">\n",
              "\n",
              "  <div class=\"colab-df-container\">\n",
              "    <button class=\"colab-df-convert\" onclick=\"convertToInteractive('df-079eac87-9032-4a6b-8779-a6bc55ad5e3e')\"\n",
              "            title=\"Convert this dataframe to an interactive table.\"\n",
              "            style=\"display:none;\">\n",
              "\n",
              "  <svg xmlns=\"http://www.w3.org/2000/svg\" height=\"24px\" viewBox=\"0 -960 960 960\">\n",
              "    <path d=\"M120-120v-720h720v720H120Zm60-500h600v-160H180v160Zm220 220h160v-160H400v160Zm0 220h160v-160H400v160ZM180-400h160v-160H180v160Zm440 0h160v-160H620v160ZM180-180h160v-160H180v160Zm440 0h160v-160H620v160Z\"/>\n",
              "  </svg>\n",
              "    </button>\n",
              "\n",
              "  <style>\n",
              "    .colab-df-container {\n",
              "      display:flex;\n",
              "      gap: 12px;\n",
              "    }\n",
              "\n",
              "    .colab-df-convert {\n",
              "      background-color: #E8F0FE;\n",
              "      border: none;\n",
              "      border-radius: 50%;\n",
              "      cursor: pointer;\n",
              "      display: none;\n",
              "      fill: #1967D2;\n",
              "      height: 32px;\n",
              "      padding: 0 0 0 0;\n",
              "      width: 32px;\n",
              "    }\n",
              "\n",
              "    .colab-df-convert:hover {\n",
              "      background-color: #E2EBFA;\n",
              "      box-shadow: 0px 1px 2px rgba(60, 64, 67, 0.3), 0px 1px 3px 1px rgba(60, 64, 67, 0.15);\n",
              "      fill: #174EA6;\n",
              "    }\n",
              "\n",
              "    .colab-df-buttons div {\n",
              "      margin-bottom: 4px;\n",
              "    }\n",
              "\n",
              "    [theme=dark] .colab-df-convert {\n",
              "      background-color: #3B4455;\n",
              "      fill: #D2E3FC;\n",
              "    }\n",
              "\n",
              "    [theme=dark] .colab-df-convert:hover {\n",
              "      background-color: #434B5C;\n",
              "      box-shadow: 0px 1px 3px 1px rgba(0, 0, 0, 0.15);\n",
              "      filter: drop-shadow(0px 1px 2px rgba(0, 0, 0, 0.3));\n",
              "      fill: #FFFFFF;\n",
              "    }\n",
              "  </style>\n",
              "\n",
              "    <script>\n",
              "      const buttonEl =\n",
              "        document.querySelector('#df-079eac87-9032-4a6b-8779-a6bc55ad5e3e button.colab-df-convert');\n",
              "      buttonEl.style.display =\n",
              "        google.colab.kernel.accessAllowed ? 'block' : 'none';\n",
              "\n",
              "      async function convertToInteractive(key) {\n",
              "        const element = document.querySelector('#df-079eac87-9032-4a6b-8779-a6bc55ad5e3e');\n",
              "        const dataTable =\n",
              "          await google.colab.kernel.invokeFunction('convertToInteractive',\n",
              "                                                    [key], {});\n",
              "        if (!dataTable) return;\n",
              "\n",
              "        const docLinkHtml = 'Like what you see? Visit the ' +\n",
              "          '<a target=\"_blank\" href=https://colab.research.google.com/notebooks/data_table.ipynb>data table notebook</a>'\n",
              "          + ' to learn more about interactive tables.';\n",
              "        element.innerHTML = '';\n",
              "        dataTable['output_type'] = 'display_data';\n",
              "        await google.colab.output.renderOutput(dataTable, element);\n",
              "        const docLink = document.createElement('div');\n",
              "        docLink.innerHTML = docLinkHtml;\n",
              "        element.appendChild(docLink);\n",
              "      }\n",
              "    </script>\n",
              "  </div>\n",
              "\n",
              "\n",
              "    </div>\n",
              "  </div>\n"
            ],
            "application/vnd.google.colaboratory.intrinsic+json": {
              "type": "dataframe",
              "variable_name": "moves"
            }
          },
          "metadata": {},
          "execution_count": 40
        }
      ],
      "source": [
        "#select first row\n",
        "moves.iloc(0)\n",
        "moves.head(1)\n",
        "##I'm aware that \"technically the first row would be '0', but they're counting the row of names without actual values as a row so I just put '1'\""
      ]
    },
    {
      "cell_type": "code",
      "execution_count": 46,
      "id": "29b58538-f2cc-47d5-8aea-f172bc2a6e34",
      "metadata": {
        "colab": {
          "base_uri": "https://localhost:8080/"
        },
        "id": "29b58538-f2cc-47d5-8aea-f172bc2a6e34",
        "outputId": "ac91c2f5-6416-4437-cfb9-8c2d153483c1"
      },
      "outputs": [
        {
          "output_type": "stream",
          "name": "stdout",
          "text": [
            "   Unnamed: 0                               Opening Colour\n",
            "0           0    Alekhine Defense, Balogh Variation  white\n",
            "1           1  Alekhine Defense, Brooklyn Variation  black\n",
            "2           2  Alekhine Defense, Exchange Variation  white\n"
          ]
        }
      ],
      "source": [
        "#select first three rows and three columns\n",
        "subset = moves.iloc[:3, :3]\n",
        "print(subset)"
      ]
    },
    {
      "cell_type": "code",
      "execution_count": 49,
      "id": "40371e52-38ae-4d05-a68d-d9b803d6884e",
      "metadata": {
        "colab": {
          "base_uri": "https://localhost:8080/"
        },
        "id": "40371e52-38ae-4d05-a68d-d9b803d6884e",
        "outputId": "27a0dbfa-a6c0-4216-e55d-5cc3703a6e27"
      },
      "outputs": [
        {
          "output_type": "stream",
          "name": "stdout",
          "text": [
            "      Perf Rating\n",
            "0            2247\n",
            "1            2145\n",
            "2            2244\n",
            "3            2187\n",
            "4            2122\n",
            "...           ...\n",
            "1879         2274\n",
            "1880         2031\n",
            "1881         2235\n",
            "1882         1936\n",
            "1883         2307\n",
            "\n",
            "[1884 rows x 1 columns]\n"
          ]
        }
      ],
      "source": [
        "#select the Alley column\n",
        "##I used the chess openings dataset rather than the Ames housing dataset so I'm just going to select aa random column.\n",
        "column3 = moves[['Perf Rating']]\n",
        "print(column3)\n"
      ]
    },
    {
      "cell_type": "code",
      "execution_count": null,
      "id": "175c3548-6237-4d6f-9918-9ce03b9bbf3a",
      "metadata": {
        "id": "175c3548-6237-4d6f-9918-9ce03b9bbf3a"
      },
      "outputs": [],
      "source": [
        "#select the Alley and BsmtCond columns\n"
      ]
    },
    {
      "cell_type": "code",
      "source": [],
      "metadata": {
        "id": "vVVvzan4HGiO"
      },
      "id": "vVVvzan4HGiO",
      "execution_count": null,
      "outputs": []
    },
    {
      "cell_type": "markdown",
      "id": "6e484559-2577-4efc-9eb1-fabc4e23c2cd",
      "metadata": {
        "id": "6e484559-2577-4efc-9eb1-fabc4e23c2cd"
      },
      "source": [
        "### Selections based on conditions\n",
        "\n",
        "Often we are interested in subsets of the data that satisfy specific criteria.  We can use the `.loc` method, the more dictionary like syntax, as well as the new `.query` method in pandas.\n",
        "\n",
        "```python\n",
        "df[conditional statement]\n",
        "#or\n",
        "df.loc[conditional statement]\n",
        "#or\n",
        "df.query(conditional statement)\n",
        "```"
      ]
    },
    {
      "cell_type": "code",
      "execution_count": null,
      "id": "3b41d502-7de2-4c76-b3f4-3c6f25832192",
      "metadata": {
        "id": "3b41d502-7de2-4c76-b3f4-3c6f25832192"
      },
      "outputs": [],
      "source": [
        "#houses with a 3 car garage -- GarageCars feature\n"
      ]
    },
    {
      "cell_type": "code",
      "execution_count": null,
      "id": "a5f03af4-bce8-4597-8733-9f01ad230a6f",
      "metadata": {
        "id": "a5f03af4-bce8-4597-8733-9f01ad230a6f"
      },
      "outputs": [],
      "source": [
        "#using dictionary syntax\n"
      ]
    },
    {
      "cell_type": "code",
      "execution_count": null,
      "id": "8e0175ad-991b-4558-a7b2-e2ba340e64b5",
      "metadata": {
        "id": "8e0175ad-991b-4558-a7b2-e2ba340e64b5"
      },
      "outputs": [],
      "source": [
        "#using .loc\n"
      ]
    },
    {
      "cell_type": "code",
      "execution_count": null,
      "id": "9c88685f-a22a-490e-afd8-0848c9a392eb",
      "metadata": {
        "id": "9c88685f-a22a-490e-afd8-0848c9a392eb"
      },
      "outputs": [],
      "source": [
        "#using .query\n"
      ]
    },
    {
      "cell_type": "code",
      "execution_count": null,
      "id": "649b21b8-19ae-49de-93c1-a2c715dff387",
      "metadata": {
        "id": "649b21b8-19ae-49de-93c1-a2c715dff387"
      },
      "outputs": [],
      "source": [
        "#3 car garage and built after the year 2000 (YearBuilt feature)\n"
      ]
    },
    {
      "cell_type": "code",
      "execution_count": null,
      "id": "a2ce29ec-83e6-4be3-b3d7-72a34eb18a65",
      "metadata": {
        "id": "a2ce29ec-83e6-4be3-b3d7-72a34eb18a65"
      },
      "outputs": [],
      "source": [
        "#average price of houses with 3 car garage built in 2000's?\n"
      ]
    },
    {
      "cell_type": "markdown",
      "id": "5738ff5e-d2a2-4273-bb9e-aede7503c571",
      "metadata": {
        "id": "5738ff5e-d2a2-4273-bb9e-aede7503c571"
      },
      "source": [
        "**CHALLENGE**\n",
        "\n",
        "Head back to our repository and create a new `DataFrame` named `health` from the [health insurance charges](https://github.com/jfkoehler/nyu_bootcamp_fa25/blob/main/data/health_insurance_charges.csv) data.  "
      ]
    },
    {
      "cell_type": "markdown",
      "id": "8c256f7d-7ffb-47ac-85e3-ae6cf23e4fcb",
      "metadata": {
        "id": "8c256f7d-7ffb-47ac-85e3-ae6cf23e4fcb"
      },
      "source": [
        "1. Did people over 50 have different average costs than those under 50 years of age?"
      ]
    },
    {
      "cell_type": "code",
      "execution_count": null,
      "id": "c4a190a4-9283-4e0d-8c46-46fa7d559726",
      "metadata": {
        "id": "c4a190a4-9283-4e0d-8c46-46fa7d559726"
      },
      "outputs": [],
      "source": [
        "##Out of storage to download the csv but the code for this would be as follows:\n",
        "##avg_under50=df[df['Age']<=50]['Cost'].mean()\n",
        "##avg_over50=df[df['Age']=>50]['Cost'].mean()\n",
        "##print(avg_under50)\n",
        "##print(avg_over50)"
      ]
    },
    {
      "cell_type": "markdown",
      "id": "d5f56ca8-1071-4b79-81aa-d9692ebea84d",
      "metadata": {
        "id": "d5f56ca8-1071-4b79-81aa-d9692ebea84d"
      },
      "source": [
        "2. What is the average `bmi` of all the male observations?"
      ]
    },
    {
      "cell_type": "code",
      "execution_count": null,
      "id": "3309e95c-0163-443c-aa8f-36a467ff7253",
      "metadata": {
        "id": "3309e95c-0163-443c-aa8f-36a467ff7253"
      },
      "outputs": [],
      "source": [
        "##average_bmi=[df['Sex'] == 'male']['BMI'].mean()\n",
        "##print(average_bmi)\n",
        "\n",
        "##or to label:\n",
        "##print(\"Average BMI for males:\", average_bmi_male)"
      ]
    },
    {
      "cell_type": "markdown",
      "id": "6ded8d5f-9297-492a-b093-658fe8b761f8",
      "metadata": {
        "id": "6ded8d5f-9297-492a-b093-658fe8b761f8"
      },
      "source": [
        "3. Did people in the southeast spend more or less on average than those in the northeast?"
      ]
    },
    {
      "cell_type": "code",
      "execution_count": null,
      "id": "dcc89fad-ffdc-4d6a-a68f-647dbfcbc78a",
      "metadata": {
        "id": "dcc89fad-ffdc-4d6a-a68f-647dbfcbc78a"
      },
      "outputs": [],
      "source": []
    },
    {
      "cell_type": "markdown",
      "id": "e8bca218-0324-494f-8555-84be200efe27",
      "metadata": {
        "id": "e8bca218-0324-494f-8555-84be200efe27"
      },
      "source": [
        "### Sort and Summarize\n",
        "\n",
        "In addition to the `.mean` method, there are a variety of helpful sorting, selecting, and aggregating functions built in to the `DataFrame`.  We explore these below.\n",
        "\n",
        "- `.nlargest`\n",
        "- `.nsmallest`\n",
        "- `.sort_values`\n",
        "- `.value_counts`\n",
        "- `.describe`"
      ]
    },
    {
      "cell_type": "code",
      "execution_count": null,
      "id": "f6b275bd-4275-48b9-879d-cc598f88725d",
      "metadata": {
        "id": "f6b275bd-4275-48b9-879d-cc598f88725d"
      },
      "outputs": [],
      "source": [
        "#sort the data\n"
      ]
    },
    {
      "cell_type": "code",
      "execution_count": null,
      "id": "5a4b9270-1444-4cf2-b09e-e3492f93ca25",
      "metadata": {
        "id": "5a4b9270-1444-4cf2-b09e-e3492f93ca25"
      },
      "outputs": [],
      "source": [
        "#find the 10 largest bmi\n"
      ]
    },
    {
      "cell_type": "code",
      "execution_count": null,
      "id": "85f1d825-1fa0-4ecd-8ef0-f474d7c5c920",
      "metadata": {
        "id": "85f1d825-1fa0-4ecd-8ef0-f474d7c5c920"
      },
      "outputs": [],
      "source": [
        "#how many entries for each region?\n"
      ]
    },
    {
      "cell_type": "code",
      "execution_count": null,
      "id": "91da661f-423f-4437-b33b-44a96accc834",
      "metadata": {
        "id": "91da661f-423f-4437-b33b-44a96accc834"
      },
      "outputs": [],
      "source": [
        "#describe the numeric data\n"
      ]
    },
    {
      "cell_type": "code",
      "execution_count": null,
      "id": "3cf86b73-cb14-41df-9413-ebae90c966fa",
      "metadata": {
        "id": "3cf86b73-cb14-41df-9413-ebae90c966fa"
      },
      "outputs": [],
      "source": [
        "#describe all the data\n"
      ]
    },
    {
      "cell_type": "markdown",
      "id": "bbfd75df-4585-4c4d-a4d5-b9a004f759d6",
      "metadata": {
        "id": "bbfd75df-4585-4c4d-a4d5-b9a004f759d6"
      },
      "source": [
        "**CHALLENGE**\n",
        "\n",
        "With your neighbor, find another `.csv` file (from our repo [here](https://github.com/jfkoehler/nyu_bootcamp_fa25/tree/main/data) or from googling around) and create a DataFrame from this.  Check that the data is formatted as you expect and if there are any datatype or missing value issues.  Use three other pandas methods (feel free to consult the cheat sheet [here](https://pandas.pydata.org/Pandas_Cheat_Sheet.pdf)) to explore your data."
      ]
    },
    {
      "cell_type": "code",
      "execution_count": null,
      "id": "3aa7971c-19bb-402a-b429-1d8dd3079942",
      "metadata": {
        "id": "3aa7971c-19bb-402a-b429-1d8dd3079942"
      },
      "outputs": [],
      "source": [
        "#load in your data\n"
      ]
    },
    {
      "cell_type": "code",
      "execution_count": null,
      "id": "33bac31e-c2c1-421f-bd8b-1093bb9ce7c6",
      "metadata": {
        "id": "33bac31e-c2c1-421f-bd8b-1093bb9ce7c6"
      },
      "outputs": [],
      "source": [
        "#look at the info\n"
      ]
    },
    {
      "cell_type": "code",
      "execution_count": null,
      "id": "5a4bb471-3d29-4ed6-9906-ae1c7acbf500",
      "metadata": {
        "id": "5a4bb471-3d29-4ed6-9906-ae1c7acbf500"
      },
      "outputs": [],
      "source": [
        "#first few rows of data\n"
      ]
    },
    {
      "cell_type": "code",
      "execution_count": null,
      "id": "a35c61a2-f905-4b91-8312-ec5d5c6ad298",
      "metadata": {
        "id": "a35c61a2-f905-4b91-8312-ec5d5c6ad298"
      },
      "outputs": [],
      "source": [
        "#method 1\n"
      ]
    },
    {
      "cell_type": "code",
      "execution_count": null,
      "id": "d9d1bcef-b38b-4d3f-87b9-e261f8383708",
      "metadata": {
        "id": "d9d1bcef-b38b-4d3f-87b9-e261f8383708"
      },
      "outputs": [],
      "source": [
        "#method 2\n"
      ]
    },
    {
      "cell_type": "code",
      "execution_count": null,
      "id": "fb2100f1-f231-4b99-b0ba-4e28bf3e576d",
      "metadata": {
        "id": "fb2100f1-f231-4b99-b0ba-4e28bf3e576d"
      },
      "outputs": [],
      "source": [
        "#method 3\n"
      ]
    },
    {
      "cell_type": "markdown",
      "id": "39dccc25-ac95-4f59-ba6e-f76c25fb3e65",
      "metadata": {
        "id": "39dccc25-ac95-4f59-ba6e-f76c25fb3e65"
      },
      "source": [
        "**CHALLENGE**\n",
        "\n",
        "With your neighbor, identify an industry or topic of interest.  Try to find a structured data source for this online.  Were you able to find a `.csv` file format or something different?  What are some challenges you feel exist about turning this data into a `DataFrame`?"
      ]
    },
    {
      "cell_type": "code",
      "execution_count": null,
      "id": "d29f73a9-b11c-4ea6-becd-f704955402fb",
      "metadata": {
        "id": "d29f73a9-b11c-4ea6-becd-f704955402fb"
      },
      "outputs": [],
      "source": []
    },
    {
      "cell_type": "code",
      "execution_count": null,
      "id": "3058216f-061a-4348-ba88-6c7fff3d1884",
      "metadata": {
        "id": "3058216f-061a-4348-ba88-6c7fff3d1884"
      },
      "outputs": [],
      "source": []
    },
    {
      "cell_type": "code",
      "execution_count": null,
      "id": "d9fa0834-78cd-40ac-89ee-be6b1db61abe",
      "metadata": {
        "id": "d9fa0834-78cd-40ac-89ee-be6b1db61abe"
      },
      "outputs": [],
      "source": []
    }
  ],
  "metadata": {
    "kernelspec": {
      "display_name": "Python 3 (ipykernel)",
      "language": "python",
      "name": "python3"
    },
    "language_info": {
      "codemirror_mode": {
        "name": "ipython",
        "version": 3
      },
      "file_extension": ".py",
      "mimetype": "text/x-python",
      "name": "python",
      "nbconvert_exporter": "python",
      "pygments_lexer": "ipython3",
      "version": "3.12.0"
    },
    "colab": {
      "provenance": []
    }
  },
  "nbformat": 4,
  "nbformat_minor": 5
}