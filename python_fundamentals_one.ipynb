{
  "cells": [
    {
      "cell_type": "markdown",
      "metadata": {
        "id": "VEM8YI5Rzp11"
      },
      "source": [
        "# Python Fundamentals 1\n",
        "\n",
        "  \n",
        "####  Outline\n",
        "\n",
        "Time to start programming! We work our way through some of the essentials of Python's core language. We will do this within a Jupyter Notebook and along the way, become familiar Markdown as well as other properties of the notebook environment.\n",
        "\n",
        "**OBJECTIVES**\n",
        "\n",
        "- Use variables to represent different Python data types\n",
        "- Identify and use `int`, `float`, `bool`, and `str` data types in Python\n",
        "- Identify, differentiate between, and use `list`, `dict`, `set`, and `tuple` collections in Python\n",
        "- Iterate over collections using `for` loops\n",
        "- Use conditional statements to control the flow of programs"
      ]
    },
    {
      "cell_type": "markdown",
      "metadata": {
        "id": "00BQWpzJzp13"
      },
      "source": [
        "### Markdown Essentials"
      ]
    },
    {
      "cell_type": "markdown",
      "metadata": {
        "id": "iU_Ia6Njzp13"
      },
      "source": [
        "Markdown is a simplified version of html (\"hypertext markup language\"), the language used to construct basic websites. It has a zen-like simplicity and beauty."
      ]
    },
    {
      "cell_type": "markdown",
      "metadata": {
        "id": "6pTxcTt3zp14"
      },
      "source": [
        "* **Headings**.  Large bold headings are marked by hashes (`#`).  One hash for first level (very large), two for second level (a little smaller), three for third level (smaller still), four for fourth (the smallest).  Try these in a Markdown cell to see how they look:\n",
        "\n",
        "   ```\n",
        "   # Data Bootcamp sandbox\n",
        "   ## Data Bootcamp sandbox\n",
        "   ### Data Bootcamp sandbox\n",
        "   ```\n",
        "\n",
        "  Be sure to run the cell when you're done (`shift enter`)."
      ]
    },
    {
      "cell_type": "markdown",
      "metadata": {
        "id": "-xeGy18Mzp14"
      },
      "source": [
        "* **Bold and italics**.  If we put a word or phrase between double asterisks, it's displayed in bold.  Thus `**bold**` displays as **bold**.  If we use single asterisks, we get italics:  `*italics*` displays as *italics*."
      ]
    },
    {
      "cell_type": "markdown",
      "metadata": {
        "id": "7TuXRKBFzp15"
      },
      "source": [
        "* **Bullet lists**.  If we want a list of items marked by bullets, we start with a blank line and mark each item with an asterisk on a new line:\n",
        "\n",
        "  ```markdown\n",
        "  * something\n",
        "  * something else\n",
        "  ```"
      ]
    },
    {
      "cell_type": "markdown",
      "metadata": {
        "id": "E0qVW0Gkzp16"
      },
      "source": [
        "* **Links**.   We construct a link with the text in square brackets and the url in parentheses immediately afterwards.  Try this one:\n",
        "  ```\n",
        "  [Dad Class](http://jfkoehler.github.io/dad_fa25)\n",
        "  ```"
      ]
    },
    {
      "cell_type": "markdown",
      "metadata": {
        "id": "YISqT4JZzp16"
      },
      "source": [
        "We can find more information about Markdown under Help.  Or use your [Google fu](https://www.urbandictionary.com/define.php?term=google-fu)."
      ]
    },
    {
      "cell_type": "markdown",
      "metadata": {
        "id": "b8VJyVjPzp16"
      },
      "source": [
        "**Exercise.** Ask questions if you find any of these steps mysterious:\n",
        "\n",
        "* Close Jupyter.\n",
        "\n",
        "* Start Jupyter.\n",
        "\n",
        "* In Jupyter, open an new Ipython notebook within your Data_Bootcamp directory/folder, point to the code cell, the name of the notebook, and the help button.\n",
        "\n",
        "* Save the file bootcamp_class_pyfun1 in your This file will serve as your notes for this class.\n",
        "* Create a description cell in Markdown at the top of your notebook. It should include your name and a description of what you're doing in the notebook. For example: \"Mike Waugh's first notebook for Python fundamentals 1\" and a date."
      ]
    },
    {
      "cell_type": "markdown",
      "metadata": {
        "id": "wt2D6fkczp17"
      },
      "source": [
        "---\n",
        "## Simple Calculations and Assignment\n",
        "\n",
        "Literally the \"bread and butter\" of scientific computation...let's get started:\n",
        "\n"
      ]
    },
    {
      "cell_type": "code",
      "execution_count": 1,
      "metadata": {
        "colab": {
          "base_uri": "https://localhost:8080/"
        },
        "id": "OlwMpS2Izp17",
        "outputId": "0377faa4-7abd-4ee1-97e7-40f74e0bdb59"
      },
      "outputs": [
        {
          "output_type": "stream",
          "name": "stdout",
          "text": [
            "6\n"
          ]
        }
      ],
      "source": [
        "test = 2*3 # simple multiplication\n",
        "print(test)"
      ]
    },
    {
      "cell_type": "code",
      "execution_count": 2,
      "metadata": {
        "colab": {
          "base_uri": "https://localhost:8080/"
        },
        "id": "F9AvdxdBzp17",
        "outputId": "f2eceb26-458a-421d-f26c-e9af3f71428a"
      },
      "outputs": [
        {
          "output_type": "stream",
          "name": "stdout",
          "text": [
            "0.6666666666666666\n"
          ]
        }
      ],
      "source": [
        "# What about division...\n",
        "test = 2/3\n",
        "print(test)"
      ]
    },
    {
      "cell_type": "code",
      "execution_count": 3,
      "metadata": {
        "colab": {
          "base_uri": "https://localhost:8080/"
        },
        "id": "8BN8KqOtzp17",
        "outputId": "6407c637-0af0-468b-b569-caa77964ceca"
      },
      "outputs": [
        {
          "output_type": "stream",
          "name": "stdout",
          "text": [
            "2\n"
          ]
        }
      ],
      "source": [
        "# What about modulus...\n",
        "test = 2%3\n",
        "print(test)"
      ]
    },
    {
      "cell_type": "code",
      "source": [
        "test= 3%7\n",
        "print (test)"
      ],
      "metadata": {
        "colab": {
          "base_uri": "https://localhost:8080/"
        },
        "id": "qSRFilkV0Rvv",
        "outputId": "021be019-f038-4c9e-eef1-6e7cd499d18f"
      },
      "execution_count": 4,
      "outputs": [
        {
          "output_type": "stream",
          "name": "stdout",
          "text": [
            "3\n"
          ]
        }
      ]
    },
    {
      "cell_type": "code",
      "source": [
        "x=2\n",
        "y=3\n",
        "print (x+y)"
      ],
      "metadata": {
        "colab": {
          "base_uri": "https://localhost:8080/"
        },
        "id": "lSqVU_2i0xlZ",
        "outputId": "19d2204b-9b90-4ab3-b003-ac7c67d7cf37"
      },
      "execution_count": 8,
      "outputs": [
        {
          "output_type": "stream",
          "name": "stdout",
          "text": [
            "5\n"
          ]
        }
      ]
    },
    {
      "cell_type": "code",
      "source": [
        "x = \"banana\"\n",
        "y= \"orange\"\n",
        "z= \"blueberries\"\n",
        "\n",
        "print(x,y,z)"
      ],
      "metadata": {
        "colab": {
          "base_uri": "https://localhost:8080/"
        },
        "id": "e2IhX-QR1jH0",
        "outputId": "764d9452-5d93-4664-d315-4f273d75d991"
      },
      "execution_count": 10,
      "outputs": [
        {
          "output_type": "stream",
          "name": "stdout",
          "text": [
            "banana orange blueberries\n"
          ]
        }
      ]
    },
    {
      "cell_type": "code",
      "source": [
        "import random\n",
        "choices = [\"rock\",\"paper\",\"scissors\"]\n",
        "player_choice=input (\"Enter your choice (rock,paper,scissors)\")\n",
        "computer_choice=random.choice(choices)\n",
        "print(f\" you chose: {player_choice} computer chose: {computer_choice} \")\n",
        "if (player_choice==\"rock\" and computer_choice== \"rock\" or player_choice==\"scisssors\" and computer_choice== \"scissors\" or player_choice==\"paper\" and computer_choice== \"paper\" ):\n",
        "  print(\"it's a tie!\")\n",
        "elif (player_choice==\"rock\" and computer_choice== \"scissors\" or player_choice==\"paper\" and computer_choice== \"rock\" or player_choice==\"scissors\" and computer_choice== \"paper\" ):\n",
        "  print(\"you win!\")\n",
        "else:\n",
        "  print(\"Computer wins!\")\n"
      ],
      "metadata": {
        "colab": {
          "base_uri": "https://localhost:8080/"
        },
        "id": "RvW6d57Q1_zn",
        "outputId": "c60fde00-ef26-4536-89b4-c85abb1c6970"
      },
      "execution_count": 17,
      "outputs": [
        {
          "output_type": "stream",
          "name": "stdout",
          "text": [
            "Enter your choice (rock,paper,scissors)rock\n",
            " you chose: rock computer chose: rock \n",
            "it's a tie!\n"
          ]
        }
      ]
    },
    {
      "cell_type": "markdown",
      "metadata": {
        "id": "vRaWRnimzp18"
      },
      "source": [
        "**Side note** Note how in the cell I have comments that are not interperted by python. To create comments simply type ``#`` and then what ever comment you want to make. Comments are **important** because they help make your code readable."
      ]
    },
    {
      "cell_type": "code",
      "source": [],
      "metadata": {
        "id": "4DzQVXzuo6i6"
      },
      "execution_count": null,
      "outputs": []
    },
    {
      "cell_type": "code",
      "execution_count": null,
      "metadata": {
        "id": "wb6_sukszp18"
      },
      "outputs": [],
      "source": [
        "test = 2^3 # This is what you would do in excel (matlab too)\n",
        "print(test)\n",
        "print(\"is this a 8???\")"
      ]
    },
    {
      "cell_type": "code",
      "execution_count": null,
      "metadata": {
        "id": "mfvYipE9zp18"
      },
      "outputs": [],
      "source": [
        "test = 2**3 # Now what happens...\n",
        "print(test)\n",
        "print(\"is this a 8???\")"
      ]
    },
    {
      "cell_type": "code",
      "execution_count": null,
      "metadata": {
        "id": "Dj9wqQ2Czp18"
      },
      "outputs": [],
      "source": [
        "test = log(3) # what do you think will happen here...log is not defined\n",
        "              # log is not a built-in function who will have a different color in notebook\n",
        "print(test)"
      ]
    },
    {
      "cell_type": "markdown",
      "metadata": {
        "id": "fthNf5XKzp18"
      },
      "source": [
        "Note how the compute just stopped. It did not compute. Remember, python and the computer are DUMB! You gave it an instruction that it did not know what to do, so it stopped, and did not proceed. A couple of points about this:\n",
        "\n",
        "* The top to bottom (within a code cell), simply following instructions/commands nature of a program.\n",
        "\n",
        "* When you run this, note how (after some stuff) tells you where the problem is: Line 1, then this name log is not defined."
      ]
    },
    {
      "cell_type": "code",
      "execution_count": null,
      "metadata": {
        "id": "2AKMC4kqzp18"
      },
      "outputs": [],
      "source": [
        "test = 4**2 # Now what happens...\n",
        "print(test)\n",
        "print(\"is this a 8???\")"
      ]
    },
    {
      "cell_type": "markdown",
      "metadata": {
        "id": "LR8LWYrJzp19"
      },
      "source": [
        "**Assignment** Above I've been assigning variables... but let's look at this more closely..."
      ]
    },
    {
      "cell_type": "code",
      "execution_count": null,
      "metadata": {
        "id": "LqL2_eD_zp19"
      },
      "outputs": [],
      "source": [
        "x = 2"
      ]
    },
    {
      "cell_type": "markdown",
      "metadata": {
        "id": "jjTGYJ0szp19"
      },
      "source": [
        "Nice so the thing on the left is the \"variable\" named \"x\", then the thing on the right is the value that this variable is assigned... then the = sign is the operator that assighns that value."
      ]
    },
    {
      "cell_type": "code",
      "execution_count": null,
      "metadata": {
        "id": "8-_P2AKFzp19"
      },
      "outputs": [],
      "source": [
        "print(x)\n",
        "\n",
        "y = 3 # lets do it again...\n",
        "print(y)"
      ]
    },
    {
      "cell_type": "markdown",
      "metadata": {
        "id": "hLKxaqb5zp19"
      },
      "source": [
        "Now we are getting somewhere, we take these variables and perform an operation. Notice that (like excel) the value assigned to z will change as we change the values assigned to x or y. But there is a difference with excel...what is it?"
      ]
    },
    {
      "cell_type": "code",
      "execution_count": null,
      "metadata": {
        "id": "iDwpvdayzp19"
      },
      "outputs": [],
      "source": [
        "z = x/y\n",
        "\n",
        "print(z)"
      ]
    },
    {
      "cell_type": "markdown",
      "metadata": {
        "id": "9oWkejg4zp19"
      },
      "source": [
        "Here is a place where you might want to figure out what variables there are within the enviornment. For example, what is `x`  (the type and size ignore for now) and then the value...how do you do this, with the `whos` command, which will provide this information."
      ]
    },
    {
      "cell_type": "code",
      "execution_count": null,
      "metadata": {
        "id": "HK3a2Q9Ozp1-"
      },
      "outputs": [],
      "source": [
        "whos"
      ]
    },
    {
      "cell_type": "markdown",
      "metadata": {
        "id": "2VnvTLz_zp1-"
      },
      "source": [
        "This is a nice feature in that it is a way for you to always understand what variables are in your environment at any point in time, their type, etc.\n",
        "\n",
        "---\n",
        "\n",
        "### Time to practice\n",
        "\n",
        "We will do this alot. Here is the deal: Below are a set of excercises, take a couple of minutes and (i) create a code cell below each one and (ii) try and answer them as best as possible. If we don't cover them all inclass, try and attempt them later as you review."
      ]
    },
    {
      "cell_type": "markdown",
      "metadata": {
        "id": "gHbSg3tMzp1-"
      },
      "source": [
        "**Exercise.** Type `w = 7` in a cell.  In the same cell, next line below, type `w = w + 2`. In the next line below type `w` (so we can see the output). What does this code do?  Why is this not a violation of basic mathematics?"
      ]
    },
    {
      "cell_type": "code",
      "execution_count": 19,
      "metadata": {
        "colab": {
          "base_uri": "https://localhost:8080/"
        },
        "id": "ypnrNFTYzp1-",
        "outputId": "9cb9a852-d108-41d5-9291-80b56bce265a"
      },
      "outputs": [
        {
          "output_type": "stream",
          "name": "stdout",
          "text": [
            "20\n"
          ]
        }
      ],
      "source": [
        "w=7\n",
        "w=w+2\n",
        "w=(w+2)+w\n",
        "print(w)"
      ]
    },
    {
      "cell_type": "markdown",
      "metadata": {
        "id": "yT_OniEIzp1-"
      },
      "source": [
        "**Exercise.** In another code cell type `w = w + 2` and then `w` below it (again so we can see the output). Evaluate this cell once. Do it again. Do it again. What is going on here?"
      ]
    },
    {
      "cell_type": "code",
      "execution_count": null,
      "metadata": {
        "id": "fvwXIKQxzp1-"
      },
      "outputs": [],
      "source": []
    },
    {
      "cell_type": "markdown",
      "metadata": {
        "id": "7OZXkRmLzp1-"
      },
      "source": [
        "---\n",
        "## Printing (and help)\n",
        "\n",
        "It's important in the sense that if we don't tell the computer to report or \"print\" the results, then generally we will not see it.\n",
        "\n",
        "First, let's practice using the help command by `print?`"
      ]
    },
    {
      "cell_type": "code",
      "execution_count": null,
      "metadata": {
        "id": "5pbf82mfzp1-"
      },
      "outputs": [],
      "source": [
        "print?"
      ]
    },
    {
      "cell_type": "markdown",
      "metadata": {
        "id": "pzu82Ua0zp1-"
      },
      "source": [
        "So a window should pop up showing things that (i) values must be seperated by commas, when it is printed how to seperate them, what to do at the end, etc."
      ]
    },
    {
      "cell_type": "code",
      "execution_count": null,
      "metadata": {
        "id": "o9274eNZzp1_"
      },
      "outputs": [],
      "source": [
        "print(x, y, sep='---')"
      ]
    },
    {
      "cell_type": "code",
      "execution_count": null,
      "metadata": {
        "scrolled": true,
        "id": "YYjGwQOGzp1_"
      },
      "outputs": [],
      "source": [
        "print(x,y, end='\\n \\n \\n \\n \\n')"
      ]
    },
    {
      "cell_type": "markdown",
      "metadata": {
        "id": "I6zRxyG2zp1_"
      },
      "source": [
        "Notice all the white space, this is what the character `\\n` does, it stands for a return or jump to the next line."
      ]
    },
    {
      "cell_type": "markdown",
      "metadata": {
        "id": "OeYrkpxTzp1_"
      },
      "source": [
        "---\n",
        "## Strings"
      ]
    },
    {
      "cell_type": "markdown",
      "metadata": {
        "id": "GEbXU-Xgzp2D"
      },
      "source": [
        "This is where I think python is VERY POWERFULL...lots of enviorenments can do numerical calculations, plotting well, but handling and manipulating strings is less common...\n",
        "\n",
        "* **Lesson 1:** A string is a collection of characters between quotation marks\n",
        "\n",
        "* **Lesson 2:** A string may look like a number, but it is not. '12'/3 this is not going to work as \"12\" is a string, python does not see it as a number, and then it is being asked to perform a numerical computation on something that is not a number, thus an error message."
      ]
    },
    {
      "cell_type": "code",
      "execution_count": 21,
      "metadata": {
        "colab": {
          "base_uri": "https://localhost:8080/"
        },
        "id": "VQZ-aac6zp2D",
        "outputId": "7bf8c011-63be-47eb-f917-71f9f30718b1"
      },
      "outputs": [
        {
          "output_type": "stream",
          "name": "stdout",
          "text": [
            "something\n"
          ]
        }
      ],
      "source": [
        "a = \"some\"\n",
        "b = \"thing\"\n",
        "c = a + b # this is awesome....so natural and intuitive... suppose you tried\n",
        "            # this in excel?? what would happen.\n",
        "print(c)"
      ]
    },
    {
      "cell_type": "code",
      "source": [
        "a = \"love \"\n",
        "b = \"always \"\n",
        "c= \"wins \"\n",
        "d= \"the day\"\n",
        "e = a + b + c + d\n",
        "print (e)"
      ],
      "metadata": {
        "colab": {
          "base_uri": "https://localhost:8080/"
        },
        "id": "OgV1T1dt6hmo",
        "outputId": "383dad6d-88f5-4b4a-8f8f-63bd71f60d8c"
      },
      "execution_count": 30,
      "outputs": [
        {
          "output_type": "stream",
          "name": "stdout",
          "text": [
            "love always wins the day\n"
          ]
        }
      ]
    },
    {
      "cell_type": "code",
      "execution_count": null,
      "metadata": {
        "id": "j2n2_dZFzp2D"
      },
      "outputs": [],
      "source": [
        "# Back to print, we can do some cool things with this...\n",
        "print(\"the value of z is\", z)\n",
        "\n",
        "# or even do something like this\n",
        "message = \"the value of z is\"\n",
        "print(message, z)\n"
      ]
    },
    {
      "cell_type": "markdown",
      "metadata": {
        "id": "7atKoF18zp2D"
      },
      "source": [
        "---\n",
        "### Time to practice\n",
        "\n",
        "Below are a set of excercises, take a couple of minutes and (i) create a code cell below each one and (ii) try and answer them as best as possible. If we don't cover them all inclass, try and attempt them later as you review."
      ]
    },
    {
      "cell_type": "markdown",
      "metadata": {
        "id": "CbeFfv74zp2E"
      },
      "source": [
        "**Exercise.** What happens if we run the statement: 'Chase'/2? Why?"
      ]
    },
    {
      "cell_type": "code",
      "execution_count": 39,
      "metadata": {
        "id": "Fru68dsfzp2E"
      },
      "outputs": [],
      "source": []
    },
    {
      "cell_type": "markdown",
      "metadata": {
        "id": "MJHG8AH1zp2E"
      },
      "source": [
        "**Exercise.** This one's a little harder. Assign your first name as a string to the variable firstname and your last name to the variable lastname.  Use them to construct a new variable equal to your first name, a space, then your last name. Hint: Think about how you would express a space as a string."
      ]
    },
    {
      "cell_type": "code",
      "execution_count": 37,
      "metadata": {
        "colab": {
          "base_uri": "https://localhost:8080/"
        },
        "id": "UC6Gfjdezp2E",
        "outputId": "dd661756-660b-4b4a-986c-579389d793d2"
      },
      "outputs": [
        {
          "output_type": "stream",
          "name": "stdout",
          "text": [
            "Nuari Amen\n"
          ]
        }
      ],
      "source": [
        "firstname= \"Nuari \"\n",
        "lastname= \"Amen\"\n",
        "c= firstname+lastname\n",
        "print (c)"
      ]
    },
    {
      "cell_type": "code",
      "source": [
        "#making a grocery list!\n",
        "a=\"-bananas\"\n",
        "b=\"-cucumber\"\n",
        "c=\"-peanutbutter\"\n",
        "d=\"-yogurt\"\n",
        "e=\"-milk\"\n",
        "f= \"Nunu's Grocery List:\"\n",
        "print(f,a,b,c,d,e,sep=\"\\n\")"
      ],
      "metadata": {
        "colab": {
          "base_uri": "https://localhost:8080/"
        },
        "id": "mtTZ28lQ7o1o",
        "outputId": "e7117b49-308e-4489-ca29-d11928dca454"
      },
      "execution_count": 7,
      "outputs": [
        {
          "output_type": "stream",
          "name": "stdout",
          "text": [
            "Nunu's Grocery List:\n",
            "-bananas\n",
            "-cucumber\n",
            "-peanutbutter\n",
            "-yogurt\n",
            "-milk\n"
          ]
        }
      ]
    },
    {
      "cell_type": "markdown",
      "metadata": {
        "id": "OQXW7Z4xzp2E"
      },
      "source": [
        "**Exercise.** Set s = 'string'. What is s + s? 2*s? s*2? What is the logic here?"
      ]
    },
    {
      "cell_type": "code",
      "execution_count": null,
      "metadata": {
        "id": "_6Fn3Zj8zp2E"
      },
      "outputs": [],
      "source": []
    },
    {
      "cell_type": "markdown",
      "metadata": {
        "id": "CAUR-1Ljzp2F"
      },
      "source": [
        "---\n",
        "## Quotation Marks\n",
        "\n",
        "Here is the thing, you'll notice that sometimes I use single quotation, double quotation marks...\n",
        "* First, both are valid ways to define a string. The real issue is my inconsistent use partly this is a problem within the NYU databoot camp team...I actually prefer double.\n",
        "* Second, the fact that both are valid is not an accident, in fact, double quotation marks and even **triple** quotation marks play an important roles."
      ]
    },
    {
      "cell_type": "code",
      "execution_count": null,
      "metadata": {
        "id": "8vwlt80wzp2F"
      },
      "outputs": [],
      "source": [
        "a = 'string'\n",
        "b = \"string\"\n",
        "print(a,b) # We should see the same thing....\n",
        "\n",
        "# This is one instance where double helps...\n",
        "message = \"I don't know what I'm doing\"\n",
        "print(message)"
      ]
    },
    {
      "cell_type": "markdown",
      "metadata": {
        "id": "KshsMFPgzp2F"
      },
      "source": [
        "**Note** how in the last line of code I can use the apostrophe. This is the value added of double quotation marks in that it can handle more complicated punctuation within the quoation marks.\n",
        "Now what about this..."
      ]
    },
    {
      "cell_type": "code",
      "execution_count": null,
      "metadata": {
        "id": "XZQq4z6Hzp2F"
      },
      "outputs": [],
      "source": [
        "longstring = \"\"\"\n",
        "Four score and seven years ago\n",
        "Our fathers brought forth. \"\"\"\n",
        "\n",
        "print(longstring)"
      ]
    },
    {
      "cell_type": "markdown",
      "metadata": {
        "id": "7Lv3ApIlzp2G"
      },
      "source": [
        "Here triple quotation marks allow us to have multiple lines."
      ]
    },
    {
      "cell_type": "markdown",
      "metadata": {
        "id": "hjzGJ47Rzp2G"
      },
      "source": [
        "---\n",
        "### Time to practice\n",
        "\n",
        "**Exercise.** In the Four score etc code, replace the triple double quotes with\n",
        "triple single quotes. What happens?"
      ]
    },
    {
      "cell_type": "code",
      "execution_count": null,
      "metadata": {
        "id": "D5zY9fJozp2G"
      },
      "outputs": [],
      "source": []
    },
    {
      "cell_type": "markdown",
      "metadata": {
        "id": "CSUNTkiVzp2G"
      },
      "source": [
        "**Exercise.** Fix this code:"
      ]
    },
    {
      "cell_type": "code",
      "execution_count": 49,
      "metadata": {
        "colab": {
          "base_uri": "https://localhost:8080/"
        },
        "id": "KdBDW8hBzp2G",
        "outputId": "e2cc0660-5608-4ca6-ffb0-c9a2315774fe"
      },
      "outputs": [
        {
          "output_type": "stream",
          "name": "stdout",
          "text": [
            "Sarah's code\n"
          ]
        }
      ],
      "source": [
        "bad_string = \"Sarah's code\"\n",
        "\n",
        "print(bad_string)"
      ]
    },
    {
      "cell_type": "markdown",
      "metadata": {
        "id": "SzBBgOpvzp2G"
      },
      "source": [
        "**Exercise.** Which of these are strings? Which are not? Edit the markdown cell and type next to each one string, not string.\n",
        "* apple\n",
        "* \"orange\"\n",
        "* 'lemon84'\n",
        "* \"1\"\n",
        "* string\n",
        "* 4\n",
        "* 15.6\n",
        "* '32.5'"
      ]
    },
    {
      "cell_type": "markdown",
      "metadata": {
        "id": "SGKl_Q-3zp2G"
      },
      "source": [
        "---\n",
        "## Lists"
      ]
    },
    {
      "cell_type": "markdown",
      "metadata": {
        "id": "4uRYT66zzp2G"
      },
      "source": [
        "**Key concept:** A list is an ordered collection of items. This will obviously be important as data will naturally come in a list or list like form. Moreover, this will also give us our first taste of \"slicing\" or grabbing specific elements of a list."
      ]
    },
    {
      "cell_type": "code",
      "execution_count": null,
      "metadata": {
        "id": "S_qr-RLvzp2H"
      },
      "outputs": [],
      "source": [
        "# Some examples of listis...\n",
        "numberlist = [1, 5, -3] # Note also the use of square brackes...this is what\n",
        "                        # defines a list, () are tuples, {} are sets...\n",
        "\n",
        "print(numberlist)\n",
        "\n",
        "stringlist = ['hi', 'hello', 'hey']\n",
        "\n",
        "a = 'some'\n",
        "\n",
        "b = 'thing'\n",
        "\n",
        "c = a + b\n",
        "\n",
        "variablelist = [a, b, c]\n",
        "print(\"\\n\")\n",
        "print(variablelist, end = \"\\n \\n\")"
      ]
    },
    {
      "cell_type": "markdown",
      "metadata": {
        "id": "L93tpuAhzp2H"
      },
      "source": [
        "Now what is really cool is that you can have a list with different types..."
      ]
    },
    {
      "cell_type": "code",
      "execution_count": null,
      "metadata": {
        "id": "DYFmG--vzp2H"
      },
      "outputs": [],
      "source": [
        "randomlist = [1, \"hello\", a]\n",
        "print(randomlist)"
      ]
    },
    {
      "cell_type": "markdown",
      "metadata": {
        "id": "uj5seW8jzp2H"
      },
      "source": [
        "So notice that the first part of the list is an integer, then a string, then the variable a (which currently is a string as well) Then there is the combining of list... so here is this awesome example"
      ]
    },
    {
      "cell_type": "code",
      "execution_count": null,
      "metadata": {
        "id": "8VZRN_92zp2H"
      },
      "outputs": [],
      "source": [
        "big_list_one = randomlist + stringlist\n",
        "print(big_list_one, end = \"\\n \\n\")"
      ]
    },
    {
      "cell_type": "markdown",
      "metadata": {
        "id": "aXQ88gBWzp2H"
      },
      "source": [
        "So notice what this did here, it litterally took randomlist and then added it to the stringlist, so we have a new list that combines all of this\n",
        "\n",
        "What do you think this does..."
      ]
    },
    {
      "cell_type": "code",
      "execution_count": null,
      "metadata": {
        "id": "Gu7ODDfhzp2H"
      },
      "outputs": [],
      "source": [
        "big_list_two = [randomlist, stringlist]\n",
        "\n",
        "print(big_list_two, end = \"\\n \\n\")"
      ]
    },
    {
      "cell_type": "markdown",
      "metadata": {
        "id": "xiXK69cfzp2L"
      },
      "source": [
        "VERY INTERESTING....This took the two lists and the created another list which is composed of two lists!!! A \"List of Lists\""
      ]
    },
    {
      "cell_type": "markdown",
      "metadata": {
        "id": "3kKJBiYSzp2L"
      },
      "source": [
        "Final point, its worth understanding the \"ordered\" part...this means for each item in the list we can call that item with its order in the list or number. Key: Python starts from the number 0, so the first item in a list is item number\n",
        "zero...Lets try some stuff"
      ]
    },
    {
      "cell_type": "code",
      "execution_count": null,
      "metadata": {
        "id": "1DQcoWNSzp2M"
      },
      "outputs": [],
      "source": [
        "\n",
        "print(randomlist[0], \"Should print the first value, a one\", end = \"\\n \\n\")\n",
        "print(randomlist[2], \" Should print the last value, 'some'\", end = \"\\n \\n\")\n",
        "\n",
        "# Now lets do this with big_list_two, the \"list of list\"\n",
        "print(big_list_two[1], \" Should be the list 'hi', 'hello', 'hey'\")"
      ]
    },
    {
      "cell_type": "markdown",
      "metadata": {
        "id": "1kCV8WL9zp2M"
      },
      "source": [
        "### Time to practice"
      ]
    },
    {
      "cell_type": "markdown",
      "metadata": {
        "id": "iQkziDowzp2M"
      },
      "source": [
        "**Exercise.** How would you explain a list to a classmate?"
      ]
    },
    {
      "cell_type": "code",
      "execution_count": null,
      "metadata": {
        "id": "iR25Kr-Jzp2M"
      },
      "outputs": [],
      "source": []
    },
    {
      "cell_type": "markdown",
      "metadata": {
        "id": "oifkfkAMzp2M"
      },
      "source": [
        "**Exercise.** Add `print(numberlist)` and `print(variablelist)` to your code and note\n",
        "the format of the output. What do the square brackets tell us? The single\n",
        "quotes around some entries?"
      ]
    },
    {
      "cell_type": "code",
      "execution_count": null,
      "metadata": {
        "id": "0LKrcqqLzp2M"
      },
      "outputs": [],
      "source": []
    },
    {
      "cell_type": "markdown",
      "metadata": {
        "id": "geBoXlNlzp2N"
      },
      "source": [
        "**Exercise.** What is the output? How would you explain it to a classmates?"
      ]
    },
    {
      "cell_type": "code",
      "execution_count": null,
      "metadata": {
        "id": "iUhEy0X0zp2N"
      },
      "outputs": [],
      "source": [
        "mixedlist = [a, b, c, numberlist]\n",
        "print(mixedlist)"
      ]
    },
    {
      "cell_type": "markdown",
      "metadata": {
        "id": "Xw-AQK2yzp2N"
      },
      "source": [
        "**Exercise.** Suppose `x = [1, 2, 3]` is a list. What is `x + x`? `2*x`? Try them and see."
      ]
    },
    {
      "cell_type": "code",
      "execution_count": null,
      "metadata": {
        "id": "DFOsJhxIzp2N"
      },
      "outputs": [],
      "source": [
        "x = [1,2,3]\n",
        "print(x+x) # This is going to make another list that is just 1,2,3,1,2,3\n",
        "print(2*x) # Same thing...amazing!!!"
      ]
    },
    {
      "cell_type": "markdown",
      "metadata": {
        "id": "qzKrrPfVzp2N"
      },
      "source": [
        "**mtwn** One thing that is interesting here is that (for those of you with prior experince in math or computing), you may be thinking that a numerical operation on a list will be like a vector operiation (a list looks similar to a vector). But it does not. In this sense the list operations are more general, usable for doing things like expanding the list, combining lists, etc. If we want to perform vector-like operations, then we need to change the type and import the `numpy` package. We will see this later."
      ]
    },
    {
      "cell_type": "markdown",
      "metadata": {
        "id": "gvdEELDozp2N"
      },
      "source": [
        "---\n",
        "## Tuples\n",
        "\n",
        "Tuples are very similar to lists, but the key issue is once a tuple is set, then the entries in it cannot be changed. This is what they call \"immutability\" of a tuple. In contrast, in a list you can change individual elements. Let's see this.\n",
        "\n",
        "\n",
        "```\n",
        "test_tuple = (1,2,3) # Similar to a list, but round brackets...\n",
        "```"
      ]
    },
    {
      "cell_type": "code",
      "execution_count": null,
      "metadata": {
        "id": "8s8vCkZnzp2N"
      },
      "outputs": [],
      "source": [
        "print(numberlist)\n",
        "numberlist[0] = 328\n",
        "print(numberlist) # Note how I changed the fist entry int he list!!!"
      ]
    },
    {
      "cell_type": "markdown",
      "metadata": {
        "id": "voL4VyKizp2O"
      },
      "source": [
        "Now here is a tuple...like with a list, individual elements are seperated by a comma. Unlike a list, we see round brackets, not square."
      ]
    },
    {
      "cell_type": "code",
      "execution_count": null,
      "metadata": {
        "id": "mheXQn-hzp2O"
      },
      "outputs": [],
      "source": [
        "test_tuple = (1,2,3) # Similar to a list, but round brackets...\n",
        "print(test_tuple)"
      ]
    },
    {
      "cell_type": "markdown",
      "metadata": {
        "id": "nXmD79Agzp2O"
      },
      "source": [
        "And again, notice that when it is printed out we see the round brakcets indicating that it is a tuple."
      ]
    },
    {
      "cell_type": "code",
      "execution_count": null,
      "metadata": {
        "id": "fHyGYu-Uzp2O"
      },
      "outputs": [],
      "source": [
        "test_tuple[0] = 328 # UNCOMMENT THIS PART OF THE CODE TO UNDERSTAND"
      ]
    },
    {
      "cell_type": "markdown",
      "metadata": {
        "id": "128_PxOLzp2O"
      },
      "source": [
        "This won't run \"TypeError: 'tuple' object does not support item assignment\" meaning, that once set you can not assignment new values... This is the immutability property of a tuple."
      ]
    },
    {
      "cell_type": "markdown",
      "metadata": {
        "id": "BfWo7Cw6zp2O"
      },
      "source": [
        "---\n",
        "\n",
        "## Dictionaries\n",
        "\n",
        "Dictionaries are (unordered) pairs of things defined by curly brackets {}, separated by commas, with the items in each pair separated by colon. We use them a fair amount of time for several reasons: One they are great for creating (small) table like datasets that can be converted to a DataFrame. Second, they are great for converting some value in your data. In one example, I had a dataset that had education catagorized by a string like [\"primary\", \"secondary\"] and I wanted to covert it into years of schooling. So I used a dictionary that mapped the words into years. Third, we often come accross them as a data structure generated by APIs.\n",
        "\n",
        "For example, here is a list of first and last names:"
      ]
    },
    {
      "cell_type": "code",
      "execution_count": null,
      "metadata": {
        "id": "hPSixnRtzp2P"
      },
      "outputs": [],
      "source": [
        "names = {'Jacob': 'Koehler', 'Lenny': 'Koehler', 'Maayan': 'Munchkin'}"
      ]
    },
    {
      "cell_type": "code",
      "execution_count": null,
      "metadata": {
        "id": "WhEJ059Izp2P"
      },
      "outputs": [],
      "source": [
        "print(names)"
      ]
    },
    {
      "cell_type": "code",
      "execution_count": null,
      "metadata": {
        "id": "LLpqjNx1zp2P"
      },
      "outputs": [],
      "source": [
        "names[\"Jacob\"]"
      ]
    },
    {
      "cell_type": "markdown",
      "metadata": {
        "id": "Kz0sk6KIzp2P"
      },
      "source": [
        "What about this..."
      ]
    },
    {
      "cell_type": "code",
      "execution_count": null,
      "metadata": {
        "id": "hwIYNfJhzp2P"
      },
      "outputs": [],
      "source": [
        "names[\"Koehler\"]"
      ]
    },
    {
      "cell_type": "markdown",
      "metadata": {
        "id": "i23jkl2Ozp2P"
      },
      "source": [
        "What happend here... we can't go from values to keys with a dictionary. The main idea is a dictionary is a one-to-many data structure. That means we must have unique keys (this is the one part)...but different keys can have the same value (this is the many part). This implies that going backwards from values to keys is not possible.\n",
        "\n",
        "For example, we can..."
      ]
    },
    {
      "cell_type": "code",
      "execution_count": null,
      "metadata": {
        "id": "C_x5iO0Fzp2P"
      },
      "outputs": [],
      "source": [
        "names[\"Backus\"] = 'Backus'\n",
        "print(names)"
      ]
    },
    {
      "cell_type": "markdown",
      "metadata": {
        "id": "MzEHha3vzp2Q"
      },
      "source": [
        "### Time to practice\n",
        "\n",
        "**Exercise.** Print the names. Does it come out in the same order we typed it?"
      ]
    },
    {
      "cell_type": "code",
      "execution_count": null,
      "metadata": {
        "id": "sRPb-cyYzp2Q"
      },
      "outputs": [],
      "source": []
    },
    {
      "cell_type": "markdown",
      "metadata": {
        "id": "Yaces3f2zp2Q"
      },
      "source": [
        "**Exercise.** Construct a dictionary whose keys are the integers 1, 2, and 3 and whose values are the same numbers as words: one, two, three. How would you get the word associated with the key 2?"
      ]
    },
    {
      "cell_type": "code",
      "execution_count": null,
      "metadata": {
        "id": "roXOFK5bzp2Q"
      },
      "outputs": [],
      "source": []
    },
    {
      "cell_type": "markdown",
      "metadata": {
        "id": "iSZjTlZdzp2Q"
      },
      "source": [
        "**Exercise.** Enter the code\n",
        "\n",
        "```\n",
        "d = {'Donald': 'Duck', 'Mickey': 'Mouse', 'Donald': 'Trump'}\n",
        "\n",
        "print(d)\n",
        "```\n",
        "\n",
        "What happened?"
      ]
    },
    {
      "cell_type": "code",
      "execution_count": null,
      "metadata": {
        "id": "hb7To4qxzp2Q"
      },
      "outputs": [],
      "source": []
    },
    {
      "cell_type": "markdown",
      "metadata": {
        "id": "zb9FYZtvzp2Q"
      },
      "source": [
        "**Exercise.** Consider the dictionary\n",
        "\n",
        "```\n",
        "data = {'Year': [1990, 2000, 2010], 'GDP':  [8.95, 12.56, 14.78]}\n",
        "\n",
        "```\n",
        "\n",
        "What are the keys here? The values? What do you think this dictionary represents?"
      ]
    },
    {
      "cell_type": "code",
      "execution_count": null,
      "metadata": {
        "id": "lp72VnW2zp2Q"
      },
      "outputs": [],
      "source": []
    },
    {
      "cell_type": "markdown",
      "metadata": {
        "id": "3YQo4h4Dzp2Q"
      },
      "source": [
        "---\n",
        "## Built in Functions\n",
        "\n",
        "We have already seen several ones, e.g., `whos` which tells what variables are defined and some properties (type, value) as well. Then we have seen the `print` function which will print the results on the screen. Here are some other ones we will use all the time\n",
        "* `len` tells us the lenght of the list, string, dictionary etc.\n",
        "* `type` tells us the type of the variable, e.g. a list, sting, float, integer, dictionary...\n",
        "Here are some examples"
      ]
    },
    {
      "cell_type": "code",
      "execution_count": null,
      "metadata": {
        "id": "AS6107Zuzp2Q"
      },
      "outputs": [],
      "source": [
        "print(len('hello world')) # note how len is \"counting how many characters\"\n",
        "                          # And it is including the white space...\n",
        "\n",
        "print(len([1, 5, -3])) # How many times in the list\n",
        "\n",
        "print(len((1, 5, -3))) # how many items in the tuple\n",
        "\n",
        "print(len('1234')) # String, so how many characters\n",
        "\n",
        "print(len('12.34')) # Again, a string...."
      ]
    },
    {
      "cell_type": "code",
      "execution_count": null,
      "metadata": {
        "id": "hK_LOcvXzp2Q"
      },
      "outputs": [],
      "source": [
        "len(12.34) # same issue with a floating point number..."
      ]
    },
    {
      "cell_type": "markdown",
      "metadata": {
        "id": "S0gCZCtZzp2R"
      },
      "source": [
        "Then this is the type command..."
      ]
    },
    {
      "cell_type": "code",
      "execution_count": null,
      "metadata": {
        "id": "on6espD6zp2R"
      },
      "outputs": [],
      "source": [
        "print(type(2)) # Its saying an integer\n",
        "\n",
        "print(type(2.5)) # A floating point number, or float\n",
        "\n",
        "print(type('2.5')) # Looks like a number, but a string\n",
        "\n",
        "print(type('something')) # String\n",
        "\n",
        "print(type([1, 5, -3])) # Here it sees that this is a list...\n",
        "\n",
        "print(type((1, 5, -3))) # A tuple"
      ]
    },
    {
      "cell_type": "markdown",
      "metadata": {
        "id": "nR40QxxOzp2R"
      },
      "source": [
        "What is a floating point number...this is **mtwn** but the basic idea is that numbers can not be stored in the computers memory with infinite precision (why? a computers memory is not infinite), so they are approximated. With a 64-bit computer and double precision arithmatic this is about to 16 digits."
      ]
    },
    {
      "cell_type": "markdown",
      "metadata": {
        "id": "l8jNRVQFzp2R"
      },
      "source": [
        "---\n",
        "## Changing types"
      ]
    },
    {
      "cell_type": "markdown",
      "metadata": {
        "id": "N5ZdAfGYzp2R"
      },
      "source": [
        "Types matter a lot in python, but sometimes we will want to change the type of a varible. This is something that will come up often in our data work...."
      ]
    },
    {
      "cell_type": "code",
      "execution_count": null,
      "metadata": {
        "id": "m-8SUENlzp2R"
      },
      "outputs": [],
      "source": [
        "s = '12.34' # This is a string (check it to veryify...)\n",
        "\n",
        "f = float(s) # This builtin function will convert the string to a float\n",
        "\n",
        "print(type(f)) # It should now tells us that f is a float...\n",
        "\n",
        "s = \"12\"\n",
        "\n",
        "i = int(s) # This should convert the string to an integer...what if we did the\n",
        "            # string \"12.34\"???\n",
        "\n",
        "print(type(i)) # This should be a type integer..."
      ]
    },
    {
      "cell_type": "markdown",
      "metadata": {
        "id": "ijitOUSKzp2R"
      },
      "source": [
        "Then we can always convert it back...."
      ]
    },
    {
      "cell_type": "code",
      "execution_count": null,
      "metadata": {
        "id": "WkS5GBQLzp2R"
      },
      "outputs": [],
      "source": [
        "s = str(12) # So start with an integer and go to a string...\n",
        "print('s has type', type(s))\n",
        "\n",
        "t = str(12.34) # Or start with a float and go to a string as well\n",
        "print('t has type', type(f))\n"
      ]
    },
    {
      "cell_type": "markdown",
      "metadata": {
        "id": "tAnodcBUzp2S"
      },
      "source": [
        "**Big picture** This is again a super powerful aspect of python that makes it very applicable for working with data...the ability to go from numbers to strings and back."
      ]
    },
    {
      "cell_type": "code",
      "execution_count": null,
      "metadata": {
        "id": "SRnf7Jo1zp2S"
      },
      "outputs": [],
      "source": [
        "# This is cool...start with a string and make it a list by the command list\n",
        "x = 'abc'\n",
        "\n",
        "y = list(x)\n",
        "\n",
        "print(y) # So now y should be a list of a, b, c"
      ]
    },
    {
      "cell_type": "markdown",
      "metadata": {
        "id": "xJJIWE77zp2S"
      },
      "source": [
        "### Time to practice"
      ]
    },
    {
      "cell_type": "markdown",
      "metadata": {
        "id": "jpt_atnLzp2S"
      },
      "source": [
        "**Exercise.** What happens if we apply the function float to the string 'some'?"
      ]
    },
    {
      "cell_type": "code",
      "execution_count": null,
      "metadata": {
        "id": "LPimtW2Wzp2S"
      },
      "outputs": [],
      "source": []
    },
    {
      "cell_type": "markdown",
      "metadata": {
        "id": "Nw6pZuuYzp2S"
      },
      "source": [
        "**Exercise.** What is the result of `list(str(int(float('12.34'))))`?\n",
        "Why? Hint: Start in the middle (the string '12.34') and work your way out,\n",
        "one step at a time. This is similar to question 13 and 14 on Code Practice #1."
      ]
    },
    {
      "cell_type": "code",
      "execution_count": null,
      "metadata": {
        "id": "iIAjgn1Xzp2S"
      },
      "outputs": [],
      "source": []
    },
    {
      "cell_type": "markdown",
      "metadata": {
        "id": "rax6MZ9Uzp2S"
      },
      "source": [
        "**Exercise.** How would you convert the integer i = 1234 to the\n",
        "list l = ['1', '2', '3', '4']? This is similar to question 18 on Code Practice #1. Lets do that one instead."
      ]
    },
    {
      "cell_type": "code",
      "execution_count": null,
      "metadata": {
        "id": "npH3SGEQzp2T"
      },
      "outputs": [],
      "source": []
    },
    {
      "cell_type": "markdown",
      "metadata": {
        "id": "q45xvwKLzp2T"
      },
      "source": [
        "**Exercise (challenging).** This one is tricky, but it came up in some work we  were doing. Suppose year is a string containing the year of a particular piece of data; for example, year = '2015'.\n",
        "How would we construct a **string** for the following year?"
      ]
    },
    {
      "cell_type": "code",
      "execution_count": null,
      "metadata": {
        "id": "ZPi91u9Xzp2T"
      },
      "outputs": [],
      "source": []
    },
    {
      "cell_type": "markdown",
      "metadata": {
        "id": "ArtNgd48zp2T"
      },
      "source": [
        "---\n",
        "## Programming Errors\n",
        "\n",
        "Fact of life: **you will make errors.** Many errors. The key to programming is (i) not getting discouraged and living with that fact and (ii) learning how to make sense of error messages and **self-correct** those errors.\n",
        "\n",
        "Point (i) is a life skill that takes years to learn. However, we can help you with (ii), below we talk through some very common error messages and how to identify them."
      ]
    },
    {
      "cell_type": "markdown",
      "metadata": {
        "id": "TS8dEwBWzp2T"
      },
      "source": [
        "### Name Error\n",
        "It happens when we use something not defined, it could be a variable or a function. The associated output is an error message that includes (i) what line the issue is occuring in and (ii) the name that could not be found. Here are two examples:"
      ]
    },
    {
      "cell_type": "code",
      "execution_count": null,
      "metadata": {
        "id": "Khnxnyarzp2U"
      },
      "outputs": [],
      "source": [
        "# Using not defined variable\n",
        "print(NotDefined)"
      ]
    },
    {
      "cell_type": "code",
      "execution_count": null,
      "metadata": {
        "id": "pwsLGyiEzp2U"
      },
      "outputs": [],
      "source": [
        "# Another situation, here we are\n",
        "# using function that is not defined.\n",
        "log(3)"
      ]
    },
    {
      "cell_type": "markdown",
      "metadata": {
        "id": "KaVB-eKXzp2U"
      },
      "source": [
        "So you see in both of these instances that there is an arrow pointing to the line within each code cell. In the first instance it is pointing to line 2. This is where the issue is. In the second instance, it is pointing to line number 3.\n",
        "\n",
        "And after pointing to the issue, below that is says ``NameError:`` and stuff. In the first instance, it tells us `NotDefined` is well...not defined. In the second instance, its saying the same thing. It just does not know what log is.  "
      ]
    },
    {
      "cell_type": "markdown",
      "metadata": {
        "id": "XW2Cf6_qzp2U"
      },
      "source": [
        "### Type Error\n",
        "This one happens all the time too. It happens when an inappropriate operation or function is applied to that specific data type. Here are some examples:"
      ]
    },
    {
      "cell_type": "code",
      "execution_count": null,
      "metadata": {
        "id": "k9nAX684zp2U"
      },
      "outputs": [],
      "source": [
        "x = \"2\"\n",
        "y = 2\n",
        "\n",
        "z = x + y"
      ]
    },
    {
      "cell_type": "markdown",
      "metadata": {
        "id": "hd9is5Vqzp2U"
      },
      "source": [
        "Like above, it tells us that line number 4 is the issue, i.e. where we are tying to add \"2\" and 2. And the issue is a type issue, we can't add two different types (in this case a string and an integer)."
      ]
    },
    {
      "cell_type": "markdown",
      "metadata": {
        "id": "6snlPIyyzp2U"
      },
      "source": [
        "Here is another example relating to tuples. Recall that with a tuple, the data type is immutable. That is it can't be changed. But lets try and change it..."
      ]
    },
    {
      "cell_type": "code",
      "execution_count": null,
      "metadata": {
        "id": "LFoOKu1fzp2V"
      },
      "outputs": [],
      "source": [
        "tuple_error=(2,3)\n",
        "tuple_error[0]=5"
      ]
    },
    {
      "cell_type": "markdown",
      "metadata": {
        "id": "DupFRfpGzp2V"
      },
      "source": [
        "Here it says, line 2...there is a problem. A ``TypeError`` problem. And what is the specific issue, well the tuple object does not support this kind of operation.\n",
        "\n",
        "**Important** A lot of the problams in interperting the error message lies in deciphering the cryptic messages like \"'tuple' object does not support item assignment\" So how do we do this...**use google** Often the first result will be a question posted to [www.stackoverflow.com](www.stackoverflow.com) which is a place for programers to ask and answer questions. This is a good place to be comfortable with and seek help from.\n",
        "\n",
        "**Excercise:** In the google search area type \"tuple' object does not support item assignment\" What did you find?\n"
      ]
    },
    {
      "cell_type": "markdown",
      "metadata": {
        "id": "-HwuFUeOzp2V"
      },
      "source": [
        "### Invalid Syntax\n",
        "\n",
        "Syntax errors can be detected before your program begins to run. These types of errors are usually typing mistakes (fat fingers), but migth be hard to find out at first. Here we give two examples:"
      ]
    },
    {
      "cell_type": "code",
      "execution_count": null,
      "metadata": {
        "id": "j9yGZviJzp2V"
      },
      "outputs": [],
      "source": [
        "# Define a simple list and let's call the first one in the list\n",
        "randomlist =[1,8,3,7]\n",
        "randomlist[0]]"
      ]
    },
    {
      "cell_type": "markdown",
      "metadata": {
        "id": "9E_68q2Wzp2W"
      },
      "source": [
        "I know this example may seem easy to identify, but imagine when you write a long code like below, it could be hard. Can you find where is missing?\n"
      ]
    },
    {
      "cell_type": "code",
      "execution_count": null,
      "metadata": {
        "id": "Li3qYesDzp2W"
      },
      "outputs": [],
      "source": [
        "goal_model_data = pandas.concat([train[['HomeTeam','AwayTeam','HomeGoals']].assign(home=1).rename(\n",
        "                columns={'HomeTeam':'team', 'AwayTeam':'opponent','HomeGoals':'goals'}),\n",
        "               train[['AwayTeam','HomeTeam','AwayGoals']].assign(home=0).rename(\n",
        "                columns={'AwayTeam':'team', 'HomeTeam':'opponent','AwayGoals':'goals'}])"
      ]
    },
    {
      "cell_type": "code",
      "execution_count": null,
      "metadata": {
        "id": "eQ0h85Jkzp2W"
      },
      "outputs": [],
      "source": [
        "# Or when we define a string\n",
        "bad_string = 'code\""
      ]
    },
    {
      "cell_type": "markdown",
      "metadata": {
        "id": "szLp8e4Fzp2W"
      },
      "source": [
        "### Key Error\n",
        "Python raises a *KeyError* whenever a `dict()` object is requested (using the format `a = adict[key]`) and the key is not in the dictionary."
      ]
    },
    {
      "cell_type": "code",
      "execution_count": null,
      "metadata": {
        "id": "YHYAUBD4zp2X"
      },
      "outputs": [],
      "source": [
        "names = {'Dave': 'Backus', 'Chase': 'Coleman', 'Spencer': 'Lyon', 'Glenn': 'Okun'}\n",
        "names['David']"
      ]
    },
    {
      "cell_type": "markdown",
      "metadata": {
        "id": "7ZvdSp7Xzp2X"
      },
      "source": [
        "### \"No Idea\" Errors\n",
        "\n",
        "These are errors that you have no idea what is going on. A couple of tips:\n",
        "- **Ask a friend.** While the movie vision of a coder is some guy in a hoody in a dark room by himself, this is not how we work. Working together, as a team, is an important aspect of data analysis and coding in general. So if you have a problem, ask for help. Explain to him/her what you were trying to do (often just this process helps solve the issue) and then show them the output.\n",
        "\n",
        "- **Google fu** Use google. Chances are you are not the first one to have this problem. Just cut and past the error message into google and track down what other people have to say about it.\n"
      ]
    },
    {
      "cell_type": "markdown",
      "metadata": {
        "id": "3NbOkEtOzp2X"
      },
      "source": [
        "---\n",
        "## Summary"
      ]
    },
    {
      "cell_type": "markdown",
      "metadata": {
        "id": "4gekQp7Izp2X"
      },
      "source": [
        "**Congratulations!** First, it's amazing that you have made it this far. Reflect on what you knew before working through this notebook. Now reflect on what you can do...AMAZING!!! Let us summarize some key things that we covered.\n",
        "\n",
        "\n",
        "* **Assignments and variables**: We say we assign what's on the right to the thing on the left: x = 17.4 assigns the number 17.4 to the variable x.\n",
        "* **Data types and structures**:\n",
        "    * Strings. Strings are collections of characters in quotes: 'this is a string'.\n",
        "    * Lists. Lists are collections of things in square brackets: [1, 'help', 3.14159].\n",
        "    * Number types: integers vs. floats. Examples of integers include -1, 2, 5, 42. They cannot involve fractions. Floats use decimal points: 12.34. Thus 2 is an integer and 2.0 is a float.\n",
        "    * Dictionary. Dictionaries are collections of unordered things in `{}` with key-value pairs: names = {'Dave': 'Backus', 'Chase': 'Coleman'}.\n",
        "\n",
        "    \n",
        "* **Built-in functions**:\n",
        "    * The `print()` function. Use `print('something', x)` to display the `value(s)` of the `object(s)` in parentheses.\n",
        "    * The `type()` function. The command `type(x)` tells us what kind of object x is. Past examples include integers, floating point numbers, strings, and lists.\n",
        "    \n",
        "* **Type conversions**:\n",
        "    * Use `str()` to convert a float or integer to a string.\n",
        "    * Use `float()` or `int()` to convert a string into a float or integer.\n",
        "    * Use `list()` to convert a string to a list of its characters.\n",
        "\n",
        "* **Error message types**:\n",
        "    * NameError. Usually happens when using something not defined which could be variable or methods.\n",
        "    * TypeError. Raise when an operation or function is applied to an object of inappropriate type. For example, tuples have no `\"=\"` methods while number no `len`.   \n",
        "    * Invalid syntax. Syntax errors can be detected before your program begins to run. So first thing to do is to check typos, parentheses, etc.\n",
        "    * KeyError. It happens when you refer a key not previously defined in the dictionary.\n",
        "\n",
        "### Useful Tricks and Programming Tools\n",
        "\n",
        "* **Comments.** Use the hash symbol # to add comments to your code and explain what you’re doing. Don't underestimate the importance of creating well commented code. Here are some thoughts on this...\n",
        "    - https://blogs.msdn.microsoft.com/oldnewthing/20070406-00/?p=27343\n",
        "    - https://blog.codinghorror.com/when-understanding-means-rewriting/\n",
        "\n",
        "\n",
        "* **Help.** We can get help for a function or method foo by typing `foo?` in the IPython console or foo in the Object explorer. Try each of them with the `type()` function to remind yourself how this works.\n",
        "\n",
        "* **Error Messages** Look at the message, (i) read where the issue is and (ii) track down what the message is associated with that line. Or ask a friend!"
      ]
    },
    {
      "cell_type": "code",
      "execution_count": null,
      "metadata": {
        "id": "5UzmNO7czp2X"
      },
      "outputs": [],
      "source": []
    }
  ],
  "metadata": {
    "anaconda-cloud": {},
    "hide_input": false,
    "kernelspec": {
      "display_name": "Python 3 (ipykernel)",
      "language": "python",
      "name": "python3"
    },
    "language_info": {
      "codemirror_mode": {
        "name": "ipython",
        "version": 3
      },
      "file_extension": ".py",
      "mimetype": "text/x-python",
      "name": "python",
      "nbconvert_exporter": "python",
      "pygments_lexer": "ipython3",
      "version": "3.12.0"
    },
    "colab": {
      "provenance": []
    }
  },
  "nbformat": 4,
  "nbformat_minor": 0
}