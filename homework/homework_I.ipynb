{
  "cells": [
    {
      "cell_type": "markdown",
      "metadata": {
        "id": "m-aVgHmESq1W"
      },
      "source": [
        "# Assignment 1\n",
        "\n",
        "**Topics**\n",
        "\n",
        "- Numbers and operations\n",
        "- Strings\n",
        "- Lists\n",
        "\n",
        "\n",
        "For each of the problems below use either a code or markdown cell to answer.  "
      ]
    },
    {
      "cell_type": "markdown",
      "metadata": {
        "id": "HXoXcFl_Sq1X"
      },
      "source": [
        "### Number and Operation\n",
        "\n",
        "In the problems below, compute the appropriate numerical operations and assign your solution to the given variable."
      ]
    },
    {
      "cell_type": "markdown",
      "metadata": {
        "id": "E5tuIx4_Sq1Y"
      },
      "source": [
        "**Problem 1**: Sum the first 10 integers.  Assign your solution to `ans1` below."
      ]
    },
    {
      "cell_type": "code",
      "execution_count": 6,
      "metadata": {
        "colab": {
          "base_uri": "https://localhost:8080/"
        },
        "id": "CZcU6_lRSq1Y",
        "outputId": "725d0389-9f62-4649-d98c-e2d3c543de6a"
      },
      "outputs": [
        {
          "output_type": "stream",
          "name": "stdout",
          "text": [
            "55\n"
          ]
        }
      ],
      "source": [
        "### addition\n",
        "ans1 = 1+2+3+4+5+6+7+8+9+10\n",
        "print(ans1)"
      ]
    },
    {
      "cell_type": "markdown",
      "metadata": {
        "id": "j2xnZIjBSq1Z"
      },
      "source": [
        "**Problem 2**: Multiply 1, 2, 3, 4, and 5.  Assign your solution to `ans2` below."
      ]
    },
    {
      "cell_type": "code",
      "execution_count": 7,
      "metadata": {
        "colab": {
          "base_uri": "https://localhost:8080/"
        },
        "id": "WVyd_EG5Sq1a",
        "outputId": "01e9d5bd-60f5-4745-9dd7-d5754de3ae6b"
      },
      "outputs": [
        {
          "output_type": "stream",
          "name": "stdout",
          "text": [
            "120\n"
          ]
        }
      ],
      "source": [
        "### multiplicatin\n",
        "ans2 = 1*2*3*4*5\n",
        "print(ans2)"
      ]
    },
    {
      "cell_type": "markdown",
      "metadata": {
        "id": "a9gvdAjKSq1a"
      },
      "source": [
        "**Problem 3**: Divide 9 by 3.  Assign your solution to `ans3` below."
      ]
    },
    {
      "cell_type": "code",
      "execution_count": 8,
      "metadata": {
        "colab": {
          "base_uri": "https://localhost:8080/"
        },
        "id": "iqw-eOnLSq1a",
        "outputId": "c845f70e-842c-40dc-967c-0323ad54b464"
      },
      "outputs": [
        {
          "output_type": "stream",
          "name": "stdout",
          "text": [
            "3.0\n"
          ]
        }
      ],
      "source": [
        "### division\n",
        "ans3 = 9/3\n",
        "print(ans3)"
      ]
    },
    {
      "cell_type": "markdown",
      "metadata": {
        "id": "RdSEje9eSq1b"
      },
      "source": [
        "**Problem 4**: What is the remainder when 7 is divided by 3?  Use the `%` operator to determine this.  Assign your solution to `ans4` below."
      ]
    },
    {
      "cell_type": "code",
      "execution_count": 9,
      "metadata": {
        "colab": {
          "base_uri": "https://localhost:8080/"
        },
        "id": "yd_QDI4RSq1b",
        "outputId": "c7444a90-3481-4a93-a1a3-eb378db18e8f"
      },
      "outputs": [
        {
          "output_type": "stream",
          "name": "stdout",
          "text": [
            "1\n"
          ]
        }
      ],
      "source": [
        "### modulus\n",
        "ans4 = 7%3\n",
        "print(ans4)"
      ]
    },
    {
      "cell_type": "markdown",
      "metadata": {
        "id": "QjvyOCL0Sq1b"
      },
      "source": [
        "**Problem 5**: What is the integer of the quotient when 12 is divided by 5?  Use the `//` operator to determine this.  Assign your solution to `ans5` below.\n"
      ]
    },
    {
      "cell_type": "code",
      "execution_count": 10,
      "metadata": {
        "colab": {
          "base_uri": "https://localhost:8080/"
        },
        "id": "YKZfIgRvSq1c",
        "outputId": "4d8269b1-e871-4b8c-b336-faa58441504b"
      },
      "outputs": [
        {
          "output_type": "stream",
          "name": "stdout",
          "text": [
            "2\n"
          ]
        }
      ],
      "source": [
        "### floor\n",
        "ans5 = 12//5\n",
        "print(ans5)"
      ]
    },
    {
      "cell_type": "markdown",
      "metadata": {
        "id": "DtAH_9AXSq1c"
      },
      "source": [
        "### Strings and their methods"
      ]
    },
    {
      "cell_type": "markdown",
      "metadata": {
        "id": "Jbr6byucSq1c"
      },
      "source": [
        "**Problem 6**: Create a string named `firstname` below with your first name.  "
      ]
    },
    {
      "cell_type": "code",
      "execution_count": 11,
      "metadata": {
        "colab": {
          "base_uri": "https://localhost:8080/"
        },
        "id": "4_tCrxOYSq1c",
        "outputId": "fcb1fdef-92a4-4e64-f951-987184383c7a"
      },
      "outputs": [
        {
          "output_type": "stream",
          "name": "stdout",
          "text": [
            "Nuari\n"
          ]
        }
      ],
      "source": [
        "### define a string\n",
        "firstname = 'Nuari'\n",
        "print(firstname)"
      ]
    },
    {
      "cell_type": "markdown",
      "metadata": {
        "id": "EpNsXS_LSq1c"
      },
      "source": [
        "**Problem 7**:   Use the `.upper()` method to uppercase the string `firstname`. Assign your solution to `ans7` below."
      ]
    },
    {
      "cell_type": "code",
      "execution_count": 12,
      "metadata": {
        "colab": {
          "base_uri": "https://localhost:8080/"
        },
        "id": "dij8FP1gSq1c",
        "outputId": "229ab1f1-ca81-43c4-9923-c5083c71b7e7"
      },
      "outputs": [
        {
          "output_type": "stream",
          "name": "stdout",
          "text": [
            "NUARI\n"
          ]
        }
      ],
      "source": [
        "### upper\n",
        "ans7 = firstname.upper()\n",
        "print(ans7)"
      ]
    },
    {
      "cell_type": "markdown",
      "metadata": {
        "id": "4nYR4puYSq1d"
      },
      "source": [
        "**Problem 8**: Below, the lyrics from the song Black Site by the American hardcore-punk band Ammo [discography](https://www.discogs.com/artist/6688148-Ammo-15).  Use the split method to split the lyrics and assign them to a variable `tokens`."
      ]
    },
    {
      "cell_type": "code",
      "execution_count": 13,
      "metadata": {
        "colab": {
          "base_uri": "https://localhost:8080/"
        },
        "id": "T0NmZGDvSq1d",
        "outputId": "fda36b03-17c5-4bfa-9a1c-1872eef0d3ce"
      },
      "outputs": [
        {
          "output_type": "stream",
          "name": "stdout",
          "text": [
            "['Enhanced', 'interrogation', 'Secret', 'strangulation', 'Thirst', 'for', 'information', 'Human', 'ruination']\n"
          ]
        }
      ],
      "source": [
        "### split\n",
        "sentence= '''\n",
        "Enhanced interrogation\n",
        "Secret strangulation\n",
        "Thirst for information\n",
        "Human ruination\n",
        "'''\n",
        "tokens = sentence.split()\n",
        "print(tokens)"
      ]
    },
    {
      "cell_type": "markdown",
      "metadata": {
        "id": "aWFXSq4kSq1d"
      },
      "source": [
        "**Problem 9**: Use the list `tokens` to extract every other word from the lyrics and combine these to be a new string using the `.join()` function.  Assign your answer as `new_lyrics` below."
      ]
    },
    {
      "cell_type": "code",
      "execution_count": 14,
      "metadata": {
        "colab": {
          "base_uri": "https://localhost:8080/"
        },
        "id": "36MNP8R1Sq1d",
        "outputId": "9af32769-a442-473c-c4b7-8e409ac6999e"
      },
      "outputs": [
        {
          "output_type": "stream",
          "name": "stdout",
          "text": [
            "Enhanced interrogation Secret strangulation Thirst for information Human ruination\n"
          ]
        }
      ],
      "source": [
        "### slice\n",
        "new_lyrics = ' '.join(tokens)\n",
        "print(new_lyrics)"
      ]
    },
    {
      "cell_type": "markdown",
      "metadata": {
        "id": "fWPCSNpcSq1d"
      },
      "source": [
        "### Lists\n",
        "\n",
        "The questions below focus on the use of [list](https://docs.python.org/3/tutorial/datastructures.html) objects. Also, they will introduce you to Ann Peebles song *Trouble, Heartaches, and Sadness* from the [album](https://www.discogs.com/master/137000-Ann-Peebles-Straight-From-The-Heart), whose lyrics are assigned to `trouble_heartaches_and_sadness` below."
      ]
    },
    {
      "cell_type": "code",
      "execution_count": 15,
      "metadata": {
        "id": "uX9fmphtSq1d"
      },
      "outputs": [],
      "source": [
        "### create\n",
        "trouble_heartaches_and_sadness = '''\n",
        "Whoa\n",
        "Old man trouble\n",
        "Stop knockin' at my door\n",
        "You used to be a good friend of mine\n",
        "But you can't hang around me no more\n",
        "\n",
        "Heartache\n",
        "(heartache)\n",
        "Stop knockin' at my window\n",
        "I don't wanna hear what you have to say\n",
        "You can go join Mister Trouble\n",
        "And be on your merry way\n",
        "\n",
        "\n",
        "'Cause I've found the love\n",
        "I needed all the time\n",
        "I've found the love\n",
        "Help me ease my troubled mind\n",
        "\n",
        "Dark clouds\n",
        "Hanging over my head\n",
        "Aw, but this time\n",
        "Sure won't rain on me\n",
        "He's my sunshine\n",
        "And the love he gives\n",
        "Gonna set me free\n",
        "Yeah\n",
        "\n",
        "Mmm\n",
        "Sadness\n",
        "I have no more use for you\n",
        "I know you can easily\n",
        "Find you another friend\n",
        "Cos I've found someone\n",
        "To take away my trouble\n",
        "Bring my sadness to an end\n",
        "\n",
        "I've found the love\n",
        "I needed all the time\n",
        "I've found the love\n",
        "Help me ease my troubled mind\n",
        "'''"
      ]
    },
    {
      "cell_type": "markdown",
      "metadata": {
        "id": "x4kszAf7Sq1d"
      },
      "source": [
        "**Problem 10**: Create a list of tokens from the lyrics and assign to the variable `peebles_lyrics` below.  Extract the last word of the lyrics and assign to `last_word`."
      ]
    },
    {
      "cell_type": "code",
      "execution_count": 16,
      "metadata": {
        "colab": {
          "base_uri": "https://localhost:8080/"
        },
        "id": "238imVwsSq1e",
        "outputId": "ce595e8f-b23c-49ad-96e7-73977b4bc661"
      },
      "outputs": [
        {
          "output_type": "stream",
          "name": "stdout",
          "text": [
            "mind\n"
          ]
        }
      ],
      "source": [
        "### index\n",
        "peebles_lyrics = trouble_heartaches_and_sadness.split()\n",
        "last_word = peebles_lyrics[-1]\n",
        "print(last_word)"
      ]
    },
    {
      "cell_type": "markdown",
      "metadata": {
        "id": "LQCJp0dcSq1e"
      },
      "source": [
        "**Problem 11**: Use the list `peebles_lyrics` to determine the number of words in the lyrics. Assign your results to `num_words` below."
      ]
    },
    {
      "cell_type": "code",
      "execution_count": 17,
      "metadata": {
        "colab": {
          "base_uri": "https://localhost:8080/"
        },
        "id": "hNnxKGB9Sq1e",
        "outputId": "250c8d0c-90d1-4da7-bc14-66fdb50fa1c2"
      },
      "outputs": [
        {
          "output_type": "stream",
          "name": "stdout",
          "text": [
            "154\n"
          ]
        }
      ],
      "source": [
        "### length\n",
        "peebles_lyrics = trouble_heartaches_and_sadness.split()\n",
        "num_words = len(peebles_lyrics)\n",
        "print(num_words)\n"
      ]
    },
    {
      "cell_type": "markdown",
      "metadata": {
        "id": "L6Jh7PvaSq1e"
      },
      "source": [
        "**Problem 12**: There is a kind of collection that we didn't discuss in class -- that of a `set`.  Read the documentation [here](https://docs.python.org/3/tutorial/datastructures.html#sets), and create a set of words from `peebles_lyrics`.  Assign the length of this set to `num_unique_words` below."
      ]
    },
    {
      "cell_type": "code",
      "execution_count": 18,
      "metadata": {
        "colab": {
          "base_uri": "https://localhost:8080/"
        },
        "id": "wdLEwU5ISq1e",
        "outputId": "8cf79706-29c4-48db-8900-74a21a5e1440"
      },
      "outputs": [
        {
          "output_type": "stream",
          "name": "stdout",
          "text": [
            "{'Mister', 'end', 'Yeah', \"I've\", 'someone', 'have', 'Heartache', 'found', 'your', 'what', 'You', 'all', 'merry', 'this', 'take', \"don't\", 'Dark', 'go', 'another', 'trouble', 'good', 'Sadness', 'easily', 'Whoa', 'sunshine', 'an', 'used', 'join', 'man', 'wanna', 'a', 'And', 'hang', 'friend', 'I', 'say', 'no', \"won't\", 'Find', 'Hanging', \"can't\", \"'Cause\", \"knockin'\", 'way', 'mind', 'away', 'love', 'me', 'window', 'head', 'needed', 'my', 'you', '(heartache)', 'at', 'Trouble', 'Stop', 'mine', 'more', 'set', 'But', 'on', 'clouds', 'Help', 'Aw,', 'Sure', 'use', 'ease', 'Mmm', 'over', 'sadness', 'of', 'Cos', 'hear', 'rain', 'Gonna', 'Old', \"He's\", 'free', 'can', 'he', 'be', 'gives', 'but', 'To', 'time', 'Bring', 'troubled', 'for', 'the', 'door', 'know', 'to', 'around'}\n"
          ]
        }
      ],
      "source": [
        "### set\n",
        "a=set(peebles_lyrics)\n",
        "num_unique_words = len(a)\n",
        "print(a)"
      ]
    },
    {
      "cell_type": "markdown",
      "metadata": {
        "id": "kO02GvnBSq1e"
      },
      "source": [
        "**Problem 13**: One way to understand the notion of lexical diversity is as the percent of unique words in a text.  What is the lexical diversity of *Trouble, Heartaches, and Sadness*?  Assign your answer as `lexical_diversity` below."
      ]
    },
    {
      "cell_type": "code",
      "execution_count": 21,
      "metadata": {
        "colab": {
          "base_uri": "https://localhost:8080/"
        },
        "id": "uW055DcTSq1e",
        "outputId": "c691702b-c16f-4272-963b-71e8176626b7"
      },
      "outputs": [
        {
          "output_type": "stream",
          "name": "stdout",
          "text": [
            "0.6103896103896104\n"
          ]
        }
      ],
      "source": [
        "### lexical diversity\n",
        "lexical_diversity = num_unique_words/num_words\n",
        "print(lexical_diversity)"
      ]
    },
    {
      "cell_type": "markdown",
      "metadata": {
        "id": "bRyjlU5RSq1f"
      },
      "source": [
        "**Problem 14**: Use your function to compare the lexical diversity of *Troubles, Heartaches, and Sadness* to that of the [Drake]() single *Hotline Bling*, assigned to the variable `hotline_bling` below.  Use the `lex_div` function to determine the lexical diversity and decide if *Drake* or *Anne Peebles* song had a higher lexical diversity."
      ]
    },
    {
      "cell_type": "code",
      "execution_count": 22,
      "metadata": {
        "id": "btsxaZQfSq1f"
      },
      "outputs": [],
      "source": [
        "hotline_bling = '''\n",
        "You used to call me on my\n",
        "You used to, you used to\n",
        "Yeah\n",
        "\n",
        "You used to call me on my cell phone\n",
        "Late-night when you need my love\n",
        "Call me on my cell phone\n",
        "Late-night when you need my love\n",
        "And I know when that hotline bling\n",
        "That can only mean one thing\n",
        "I know when that hotline bling\n",
        "That can only mean one thing\n",
        "\n",
        "\n",
        "Ever since I left the city, you\n",
        "Got a reputation for yourself now\n",
        "Everybody knows and I feel left out\n",
        "Girl, you got me down, you got me stressed out\n",
        "'Cause ever since I left the city, you\n",
        "Started wearing less and goin' out more\n",
        "Glasses of champagne out on the dance floor\n",
        "Hangin' with some girls I never seen before\n",
        "\n",
        "\n",
        "You used to call me on my cell phone\n",
        "Late-night when you need my love\n",
        "Call me on my cell phone\n",
        "Late-night when you need my love\n",
        "I know when that hotline bling\n",
        "That can only mean one thing\n",
        "I know when that hotline bling\n",
        "That can only mean one thing\n",
        "\n",
        "\n",
        "Ever since I left the city, you, you, you\n",
        "You and me, we just don't get along\n",
        "You make me feel like I did you wrong\n",
        "Going places where you don't belong\n",
        "Ever since I left the city, you\n",
        "You got exactly what you asked for\n",
        "Running out of pages in your passport\n",
        "Hangin' with some girls I've never seen before\n",
        "'''"
      ]
    },
    {
      "cell_type": "code",
      "source": [
        "##just trying something out from the set example!! -nunu\n",
        "a=set(peebles_lyrics)\n",
        "b=set(hotline_bling)\n",
        "a^b"
      ],
      "metadata": {
        "id": "QX3q4AENn89_",
        "outputId": "f70640cd-dd08-4648-c908-a057b3bd7681",
        "colab": {
          "base_uri": "https://localhost:8080/"
        }
      },
      "execution_count": 23,
      "outputs": [
        {
          "output_type": "execute_result",
          "data": {
            "text/plain": [
              "{'\\n',\n",
              " ' ',\n",
              " \"'\",\n",
              " \"'Cause\",\n",
              " '(heartache)',\n",
              " ',',\n",
              " '-',\n",
              " 'A',\n",
              " 'And',\n",
              " 'Aw,',\n",
              " 'Bring',\n",
              " 'But',\n",
              " 'C',\n",
              " 'Cos',\n",
              " 'Dark',\n",
              " 'E',\n",
              " 'Find',\n",
              " 'G',\n",
              " 'Gonna',\n",
              " 'H',\n",
              " 'Hanging',\n",
              " \"He's\",\n",
              " 'Heartache',\n",
              " 'Help',\n",
              " \"I've\",\n",
              " 'L',\n",
              " 'Mister',\n",
              " 'Mmm',\n",
              " 'Old',\n",
              " 'R',\n",
              " 'S',\n",
              " 'Sadness',\n",
              " 'Stop',\n",
              " 'Sure',\n",
              " 'T',\n",
              " 'To',\n",
              " 'Trouble',\n",
              " 'Whoa',\n",
              " 'Y',\n",
              " 'Yeah',\n",
              " 'You',\n",
              " 'all',\n",
              " 'an',\n",
              " 'another',\n",
              " 'around',\n",
              " 'at',\n",
              " 'away',\n",
              " 'b',\n",
              " 'be',\n",
              " 'but',\n",
              " 'c',\n",
              " 'can',\n",
              " \"can't\",\n",
              " 'clouds',\n",
              " 'd',\n",
              " \"don't\",\n",
              " 'door',\n",
              " 'e',\n",
              " 'ease',\n",
              " 'easily',\n",
              " 'end',\n",
              " 'f',\n",
              " 'for',\n",
              " 'found',\n",
              " 'free',\n",
              " 'friend',\n",
              " 'g',\n",
              " 'gives',\n",
              " 'go',\n",
              " 'good',\n",
              " 'h',\n",
              " 'hang',\n",
              " 'have',\n",
              " 'he',\n",
              " 'head',\n",
              " 'hear',\n",
              " 'i',\n",
              " 'j',\n",
              " 'join',\n",
              " 'k',\n",
              " \"knockin'\",\n",
              " 'know',\n",
              " 'l',\n",
              " 'love',\n",
              " 'm',\n",
              " 'man',\n",
              " 'me',\n",
              " 'merry',\n",
              " 'mind',\n",
              " 'mine',\n",
              " 'more',\n",
              " 'my',\n",
              " 'n',\n",
              " 'needed',\n",
              " 'no',\n",
              " 'o',\n",
              " 'of',\n",
              " 'on',\n",
              " 'over',\n",
              " 'p',\n",
              " 'r',\n",
              " 'rain',\n",
              " 's',\n",
              " 'sadness',\n",
              " 'say',\n",
              " 'set',\n",
              " 'someone',\n",
              " 'sunshine',\n",
              " 't',\n",
              " 'take',\n",
              " 'the',\n",
              " 'this',\n",
              " 'time',\n",
              " 'to',\n",
              " 'trouble',\n",
              " 'troubled',\n",
              " 'u',\n",
              " 'use',\n",
              " 'used',\n",
              " 'v',\n",
              " 'w',\n",
              " 'wanna',\n",
              " 'way',\n",
              " 'what',\n",
              " 'window',\n",
              " \"won't\",\n",
              " 'x',\n",
              " 'y',\n",
              " 'you',\n",
              " 'your'}"
            ]
          },
          "metadata": {},
          "execution_count": 23
        }
      ]
    },
    {
      "cell_type": "code",
      "execution_count": null,
      "metadata": {
        "id": "Qbugu7s3Sq1f"
      },
      "outputs": [],
      "source": []
    },
    {
      "cell_type": "markdown",
      "metadata": {
        "id": "Sf2R8C5uSq1f"
      },
      "source": [
        "### Further Problems\n",
        "\n",
        "One great resource for practice are sites like [code wars](https://www.codewars.com/).  They have problems organized by difficulty in *Kata*'s.  Head over to code wars and get set up to practice.  Explore some different problems and locate two that you understand and are able to solve.  State the problems and their solutions below."
      ]
    },
    {
      "cell_type": "markdown",
      "metadata": {
        "id": "XeuKuJd4Sq1f"
      },
      "source": [
        "**Problem 15**:  Code Wars Problem I"
      ]
    },
    {
      "cell_type": "code",
      "execution_count": null,
      "metadata": {
        "id": "BZxqndJMSq1f"
      },
      "outputs": [],
      "source": [
        "##unable to find code wars problems?? This website is very difficult for me to navigate."
      ]
    },
    {
      "cell_type": "markdown",
      "metadata": {
        "id": "uhpNPTOoSq1g"
      },
      "source": [
        "**Problem 16**: Code Wars Problem II"
      ]
    },
    {
      "cell_type": "code",
      "execution_count": null,
      "metadata": {
        "id": "QCflryVzSq1g"
      },
      "outputs": [],
      "source": []
    }
  ],
  "metadata": {
    "kernelspec": {
      "display_name": "Python 3 (ipykernel)",
      "language": "python",
      "name": "python3"
    },
    "language_info": {
      "codemirror_mode": {
        "name": "ipython",
        "version": 3
      },
      "file_extension": ".py",
      "mimetype": "text/x-python",
      "name": "python",
      "nbconvert_exporter": "python",
      "pygments_lexer": "ipython3",
      "version": "3.12.0"
    },
    "colab": {
      "provenance": []
    }
  },
  "nbformat": 4,
  "nbformat_minor": 0
}